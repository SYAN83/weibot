{
 "cells": [
  {
   "cell_type": "code",
   "execution_count": 1,
   "metadata": {},
   "outputs": [
    {
     "name": "stdout",
     "output_type": "stream",
     "text": [
      "Please load the link https://api.weibo.com/oauth2/authorize?response_type=code&client_id=3677147061&redirect_uri=https%3A%2F%2Fwww.greenpeace.org%2F&state=rBTAqYzsVSnpetYVhxKSXdjRA7mAqi to your browser and authorize weibo API access.\n",
      "Enter the full callback URL: https://www.greenpeace.org/usa/?state=rBTAqYzsVSnpetYVhxKSXdjRA7mAqi&code=4acae937a0f6156bd8084503336d139c\n",
      "UID: 1292378751\n",
      "Access Token expires at: 2023/07/08 21:57:38\n"
     ]
    }
   ],
   "source": [
    "import sys\n",
    "sys.path.append('./venv/lib/python3.6/site-packages/')\n",
    "\n",
    "import yaml\n",
    "import weibopy as wb\n",
    "\n",
    "\n",
    "with open('./credentials.yml') as f:\n",
    "    cred = yaml.load(f)\n",
    "\n",
    "oauth = wb.OAuthHandler(**cred['weibo']).authorize()\n",
    "api = wb.API(oauth=oauth)\n",
    "# data, status = api.statuses.user_timeline()"
   ]
  },
  {
   "cell_type": "code",
   "execution_count": 2,
   "metadata": {},
   "outputs": [],
   "source": [
    "from utils import MongoWriter\n",
    "from weibo_data import *\n",
    "writer = MongoWriter(**cred['mongo'])"
   ]
  },
  {
   "cell_type": "code",
   "execution_count": 51,
   "metadata": {},
   "outputs": [
    {
     "data": {
      "text/plain": [
       "4257970281382180"
      ]
     },
     "execution_count": 51,
     "metadata": {},
     "output_type": "execute_result"
    }
   ],
   "source": [
    "writer.get_since_id(collection='statuses')"
   ]
  },
  {
   "cell_type": "code",
   "execution_count": 57,
   "metadata": {},
   "outputs": [],
   "source": [
    "def crawl_statuses(since_id=0, insert: bool=False):\n",
    "    records = list()\n",
    "    skip_id = set()\n",
    "    max_id = 0\n",
    "    while True:\n",
    "        data, _ = api.statuses.user_timeline(since_id=since_id, max_id=max_id)\n",
    "        records = [s for s in [Status(x) for x in data['statuses']] if s.get('_id') not in skip_id]\n",
    "        print(len(records))\n",
    "        if records:\n",
    "            for record in records:\n",
    "                if record.get('_id') not in skip_id:\n",
    "                    print(record.get('_id'), record.get('created_at'))\n",
    "                    if insert:\n",
    "                        record.write(writer=writer)\n",
    "                    skip_id.add(record.get('_id'))\n",
    "            else:\n",
    "                max_id = record.get('_id')\n",
    "        else:\n",
    "            break"
   ]
  },
  {
   "cell_type": "code",
   "execution_count": 59,
   "metadata": {},
   "outputs": [
    {
     "name": "stdout",
     "output_type": "stream",
     "text": [
      "5\n",
      "4250426327276250 Wed Jun 13 12:27:48 +0800 2018\n",
      "4257970281382180 Wed Jul 04 08:04:48 +0800 2018\n",
      "4251242778027475 Fri Jun 15 18:32:05 +0800 2018\n",
      "4248940779458347 Sat Jun 09 10:04:47 +0800 2018\n",
      "4248766729509158 Fri Jun 08 22:33:09 +0800 2018\n",
      "4\n",
      "4247581435297686 Tue Jun 05 16:03:13 +0800 2018\n",
      "4246117354311557 Fri Jun 01 15:05:29 +0800 2018\n",
      "4243617021947926 Fri May 25 17:30:03 +0800 2018\n",
      "4241343654479917 Sat May 19 10:56:29 +0800 2018\n",
      "0\n"
     ]
    }
   ],
   "source": [
    "crawl_statuses(since_id=0)"
   ]
  },
  {
   "cell_type": "code",
   "execution_count": 60,
   "metadata": {},
   "outputs": [
    {
     "name": "stdout",
     "output_type": "stream",
     "text": [
      "5\n",
      "4250426327276250 Wed Jun 13 12:27:48 +0800 2018\n",
      "4257970281382180 Wed Jul 04 08:04:48 +0800 2018\n",
      "4251242778027475 Fri Jun 15 18:32:05 +0800 2018\n",
      "4248940779458347 Sat Jun 09 10:04:47 +0800 2018\n",
      "4248766729509158 Fri Jun 08 22:33:09 +0800 2018\n",
      "2\n",
      "4247581435297686 Tue Jun 05 16:03:13 +0800 2018\n",
      "4246117354311557 Fri Jun 01 15:05:29 +0800 2018\n",
      "0\n"
     ]
    }
   ],
   "source": [
    "crawl_statuses(since_id=4243617021947926)"
   ]
  },
  {
   "cell_type": "code",
   "execution_count": 64,
   "metadata": {},
   "outputs": [
    {
     "name": "stdout",
     "output_type": "stream",
     "text": [
      "4250426327276250 Wed Jun 13 12:27:48 +0800 2018\n",
      "32 ['_id', 'created_at', 'text', 'textLength', 'source', 'favorited', 'truncated', 'pic_urls', 'geo', 'is_paid', 'annotations', 'reposts_count', 'comments_count', 'attitudes_count', 'isLongText', 'multi_attitude', 'hide_flag', 'visible', 'biz_ids', 'biz_feature', 'page_type', 'hasActionTypeCard', 'darwin_tags', 'hot_weibo_tags', 'text_tag_tips', 'userType', 'positive_recom_flag', 'content_auth', 'gif_ids', 'is_show_bulletin', 'comment_manage_info', 'uid']\n",
      "4257970281382180 Wed Jul 04 08:04:48 +0800 2018\n",
      "30 ['_id', 'created_at', 'text', 'textLength', 'source', 'favorited', 'truncated', 'pic_urls', 'geo', 'is_paid', 'reposts_count', 'comments_count', 'attitudes_count', 'isLongText', 'multi_attitude', 'hide_flag', 'visible', 'biz_feature', 'page_type', 'hasActionTypeCard', 'darwin_tags', 'hot_weibo_tags', 'text_tag_tips', 'userType', 'positive_recom_flag', 'content_auth', 'gif_ids', 'is_show_bulletin', 'comment_manage_info', 'uid']\n",
      "4251242778027475 Fri Jun 15 18:32:05 +0800 2018\n",
      "31 ['_id', 'created_at', 'text', 'textLength', 'source', 'favorited', 'truncated', 'pic_urls', 'geo', 'is_paid', 'reposts_count', 'comments_count', 'attitudes_count', 'isLongText', 'multi_attitude', 'hide_flag', 'visible', 'biz_ids', 'biz_feature', 'page_type', 'hasActionTypeCard', 'darwin_tags', 'hot_weibo_tags', 'text_tag_tips', 'userType', 'positive_recom_flag', 'content_auth', 'gif_ids', 'is_show_bulletin', 'comment_manage_info', 'uid']\n",
      "4248940779458347 Sat Jun 09 10:04:47 +0800 2018\n",
      "32 ['_id', 'created_at', 'text', 'textLength', 'source', 'favorited', 'truncated', 'pic_urls', 'geo', 'is_paid', 'annotations', 'reposts_count', 'comments_count', 'attitudes_count', 'isLongText', 'multi_attitude', 'hide_flag', 'visible', 'biz_ids', 'biz_feature', 'page_type', 'hasActionTypeCard', 'darwin_tags', 'hot_weibo_tags', 'text_tag_tips', 'userType', 'positive_recom_flag', 'content_auth', 'gif_ids', 'is_show_bulletin', 'comment_manage_info', 'uid']\n",
      "4248766729509158 Fri Jun 08 22:33:09 +0800 2018\n",
      "31 ['_id', 'created_at', 'text', 'textLength', 'source', 'favorited', 'truncated', 'pic_urls', 'geo', 'is_paid', 'reposts_count', 'comments_count', 'attitudes_count', 'isLongText', 'multi_attitude', 'hide_flag', 'visible', 'biz_ids', 'biz_feature', 'page_type', 'hasActionTypeCard', 'darwin_tags', 'hot_weibo_tags', 'text_tag_tips', 'userType', 'positive_recom_flag', 'content_auth', 'gif_ids', 'is_show_bulletin', 'comment_manage_info', 'uid']\n"
     ]
    }
   ],
   "source": [
    "for s_data in data['statuses']:\n",
    "    status = Status(s_data)\n",
    "    \n",
    "    print(status.get('_id'), status.get('created_at'))\n",
    "    print(len(status._data.keys()), list(status._data.keys()))\n",
    "#     status.write(writer=writer) "
   ]
  },
  {
   "cell_type": "code",
   "execution_count": 47,
   "metadata": {},
   "outputs": [],
   "source": [
    "data2, status = api.statuses.user_timeline(max_id=4248766729509158)"
   ]
  },
  {
   "cell_type": "code",
   "execution_count": 65,
   "metadata": {},
   "outputs": [
    {
     "name": "stdout",
     "output_type": "stream",
     "text": [
      "4250426327276250 Wed Jun 13 12:27:48 +0800 2018\n",
      "32 ['_id', 'created_at', 'text', 'textLength', 'source', 'favorited', 'truncated', 'pic_urls', 'geo', 'is_paid', 'annotations', 'reposts_count', 'comments_count', 'attitudes_count', 'isLongText', 'multi_attitude', 'hide_flag', 'visible', 'biz_ids', 'biz_feature', 'page_type', 'hasActionTypeCard', 'darwin_tags', 'hot_weibo_tags', 'text_tag_tips', 'userType', 'positive_recom_flag', 'content_auth', 'gif_ids', 'is_show_bulletin', 'comment_manage_info', 'uid']\n",
      "4248766729509158 Fri Jun 08 22:33:09 +0800 2018\n",
      "31 ['_id', 'created_at', 'text', 'textLength', 'source', 'favorited', 'truncated', 'pic_urls', 'geo', 'is_paid', 'reposts_count', 'comments_count', 'attitudes_count', 'isLongText', 'multi_attitude', 'hide_flag', 'visible', 'biz_ids', 'biz_feature', 'page_type', 'hasActionTypeCard', 'darwin_tags', 'hot_weibo_tags', 'text_tag_tips', 'userType', 'positive_recom_flag', 'content_auth', 'gif_ids', 'is_show_bulletin', 'comment_manage_info', 'uid']\n",
      "4247581435297686 Tue Jun 05 16:03:13 +0800 2018\n",
      "29 ['_id', 'created_at', 'text', 'source', 'favorited', 'truncated', 'pic_urls', 'geo', 'is_paid', 'reposts_count', 'comments_count', 'attitudes_count', 'isLongText', 'multi_attitude', 'hide_flag', 'visible', 'biz_feature', 'hasActionTypeCard', 'darwin_tags', 'hot_weibo_tags', 'text_tag_tips', 'userType', 'positive_recom_flag', 'content_auth', 'gif_ids', 'is_show_bulletin', 'comment_manage_info', 'uid', 'retweeted_id']\n",
      "4246117354311557 Fri Jun 01 15:05:29 +0800 2018\n",
      "32 ['_id', 'created_at', 'text', 'textLength', 'source', 'favorited', 'truncated', 'pic_urls', 'geo', 'is_paid', 'annotations', 'reposts_count', 'comments_count', 'attitudes_count', 'isLongText', 'multi_attitude', 'hide_flag', 'visible', 'biz_ids', 'biz_feature', 'page_type', 'hasActionTypeCard', 'darwin_tags', 'hot_weibo_tags', 'text_tag_tips', 'userType', 'positive_recom_flag', 'content_auth', 'gif_ids', 'is_show_bulletin', 'comment_manage_info', 'uid']\n",
      "4243617021947926 Fri May 25 17:30:03 +0800 2018\n",
      "32 ['_id', 'created_at', 'text', 'textLength', 'source', 'favorited', 'truncated', 'pic_urls', 'geo', 'is_paid', 'annotations', 'reposts_count', 'comments_count', 'attitudes_count', 'isLongText', 'multi_attitude', 'hide_flag', 'visible', 'biz_ids', 'biz_feature', 'page_type', 'hasActionTypeCard', 'darwin_tags', 'hot_weibo_tags', 'text_tag_tips', 'userType', 'positive_recom_flag', 'content_auth', 'gif_ids', 'is_show_bulletin', 'comment_manage_info', 'uid']\n",
      "4241343654479917 Sat May 19 10:56:29 +0800 2018\n",
      "32 ['_id', 'created_at', 'text', 'textLength', 'source', 'favorited', 'truncated', 'pic_urls', 'geo', 'is_paid', 'annotations', 'reposts_count', 'comments_count', 'attitudes_count', 'isLongText', 'multi_attitude', 'hide_flag', 'visible', 'biz_ids', 'biz_feature', 'page_type', 'hasActionTypeCard', 'darwin_tags', 'hot_weibo_tags', 'text_tag_tips', 'userType', 'positive_recom_flag', 'content_auth', 'gif_ids', 'is_show_bulletin', 'comment_manage_info', 'uid']\n"
     ]
    }
   ],
   "source": [
    "for s_data in data2['statuses']:\n",
    "    status = Status(s_data)\n",
    "    print(status.get('_id'), status.get('created_at'))\n",
    "    print(len(status._data.keys()), list(status._data.keys()))"
   ]
  },
  {
   "cell_type": "code",
   "execution_count": 67,
   "metadata": {},
   "outputs": [
    {
     "data": {
      "text/plain": [
       "{'created_at': 'Sat May 19 10:56:29 +0800 2018',\n",
       " 'id': 4241343654479917,\n",
       " 'idstr': '4241343654479917',\n",
       " 'mid': '4241343654479917',\n",
       " 'can_edit': False,\n",
       " 'text': '#地球守护者# 520微公益新媒体展！5月19日、20日，来北京751-D-Park炉区北广场，与酷酷的企鹅合影，打印专属明信片，绿色和平等你来玩！[太开心][太开心] http://t.cn/R2WJhBp \\u200b',\n",
       " 'textLength': 163,\n",
       " 'source_allowclick': 0,\n",
       " 'source_type': 2,\n",
       " 'source': '<a href=\"http://weibo.com/\" rel=\"nofollow\">iPhone客户端</a>',\n",
       " 'favorited': False,\n",
       " 'truncated': False,\n",
       " 'in_reply_to_status_id': '',\n",
       " 'in_reply_to_user_id': '',\n",
       " 'in_reply_to_screen_name': '',\n",
       " 'pic_urls': [{'thumbnail_pic': 'http://wx1.sinaimg.cn/thumbnail/4d08227fly1frggnf598tj20ux0qok34.jpg'},\n",
       "  {'thumbnail_pic': 'http://wx2.sinaimg.cn/thumbnail/4d08227fly1frggnfkuz1j20qo0qo41q.jpg'},\n",
       "  {'thumbnail_pic': 'http://wx3.sinaimg.cn/thumbnail/4d08227fly1frggng0bihj20zk0qodne.jpg'},\n",
       "  {'thumbnail_pic': 'http://wx2.sinaimg.cn/thumbnail/4d08227fly1frggngj6zsj20zk0qok0u.jpg'}],\n",
       " 'thumbnail_pic': 'http://wx1.sinaimg.cn/thumbnail/4d08227fly1frggnf598tj20ux0qok34.jpg',\n",
       " 'bmiddle_pic': 'http://wx1.sinaimg.cn/bmiddle/4d08227fly1frggnf598tj20ux0qok34.jpg',\n",
       " 'original_pic': 'http://wx1.sinaimg.cn/large/4d08227fly1frggnf598tj20ux0qok34.jpg',\n",
       " 'geo': {'type': 'Point', 'coordinates': [39.98344, 116.499336]},\n",
       " 'is_paid': False,\n",
       " 'mblog_vip_type': 0,\n",
       " 'user': {'id': 1292378751,\n",
       "  'idstr': '1292378751',\n",
       "  'class': 1,\n",
       "  'screen_name': '绿色和平',\n",
       "  'name': '绿色和平',\n",
       "  'province': '11',\n",
       "  'city': '5',\n",
       "  'location': '北京 朝阳区',\n",
       "  'description': '行动，带来改变！ 绿色和平是全球最有影响力的环保组织之一，致力于以实际行动推进积极改变，保护地球环境与世界和平。…',\n",
       "  'url': 'http://blog.sina.com.cn/greenpeace2007',\n",
       "  'profile_image_url': 'http://tvax1.sinaimg.cn/crop.0.0.285.285.50/4d08227fly8fir4qv97zdj207x07x756.jpg',\n",
       "  'cover_image': 'http://wx3.sinaimg.cn/crop.0.0.920.300/4d08227fly1fqq1cky5h3j20pk08c7g5.jpg',\n",
       "  'cover_image_phone': 'http://ww1.sinaimg.cn/crop.0.0.640.640.640/549d0121tw1egm1kjly3jj20hs0hsq4f.jpg',\n",
       "  'profile_url': 'greenpeace',\n",
       "  'domain': 'greenpeace',\n",
       "  'weihao': '',\n",
       "  'gender': 'm',\n",
       "  'followers_count': 666277,\n",
       "  'friends_count': 758,\n",
       "  'pagefriends_count': 49,\n",
       "  'statuses_count': 4395,\n",
       "  'video_status_count': 0,\n",
       "  'favourites_count': 428,\n",
       "  'created_at': 'Fri Aug 28 16:34:18 +0800 2009',\n",
       "  'following': False,\n",
       "  'allow_all_act_msg': True,\n",
       "  'geo_enabled': True,\n",
       "  'verified': True,\n",
       "  'verified_type': 7,\n",
       "  'remark': '',\n",
       "  'insecurity': {'sexual_content': False},\n",
       "  'ptype': 0,\n",
       "  'allow_all_comment': True,\n",
       "  'avatar_large': 'http://tvax1.sinaimg.cn/crop.0.0.285.285.180/4d08227fly8fir4qv97zdj207x07x756.jpg',\n",
       "  'avatar_hd': 'http://tvax1.sinaimg.cn/crop.0.0.285.285.1024/4d08227fly8fir4qv97zdj207x07x756.jpg',\n",
       "  'verified_reason': '国际环保组织绿色和平',\n",
       "  'verified_trade': '',\n",
       "  'verified_reason_url': '',\n",
       "  'verified_source': '',\n",
       "  'verified_source_url': '',\n",
       "  'verified_state': 0,\n",
       "  'verified_level': 3,\n",
       "  'verified_type_ext': 100,\n",
       "  'has_service_tel': False,\n",
       "  'verified_reason_modified': '',\n",
       "  'verified_contact_name': '',\n",
       "  'verified_contact_email': '',\n",
       "  'verified_contact_mobile': '',\n",
       "  'follow_me': False,\n",
       "  'like': False,\n",
       "  'like_me': False,\n",
       "  'online_status': 0,\n",
       "  'bi_followers_count': 414,\n",
       "  'lang': 'zh-cn',\n",
       "  'star': 0,\n",
       "  'mbtype': 0,\n",
       "  'mbrank': 0,\n",
       "  'block_word': 0,\n",
       "  'block_app': 0,\n",
       "  'credit_score': 80,\n",
       "  'user_ability': 262656,\n",
       "  'urank': 35,\n",
       "  'story_read_state': -1,\n",
       "  'vclub_member': 0},\n",
       " 'annotations': [{'place': {'poiid': '8008611010500000047',\n",
       "    'title': '798艺术区',\n",
       "    'type': 'checkin'},\n",
       "   'client_mblogid': 'iPhone-4E03A91E-AA6F-479C-9F42-7C7DE05E5E61'},\n",
       "  {'mapi_request': True}],\n",
       " 'reposts_count': 10,\n",
       " 'comments_count': 13,\n",
       " 'attitudes_count': 42,\n",
       " 'pending_approval_count': 0,\n",
       " 'isLongText': False,\n",
       " 'multi_attitude': [{'type': 4, 'count': 0},\n",
       "  {'type': 5, 'count': 0},\n",
       "  {'type': 3, 'count': 0},\n",
       "  {'type': 2, 'count': 0},\n",
       "  {'type': 1, 'count': 0}],\n",
       " 'hide_flag': 0,\n",
       " 'mlevel': 0,\n",
       " 'visible': {'type': 0, 'list_id': 0},\n",
       " 'biz_ids': [100101],\n",
       " 'biz_feature': 4294967300,\n",
       " 'page_type': 40,\n",
       " 'hasActionTypeCard': 0,\n",
       " 'darwin_tags': [],\n",
       " 'hot_weibo_tags': [],\n",
       " 'text_tag_tips': [],\n",
       " 'userType': 0,\n",
       " 'extend_info': {'weibo_camera': {'c': ['30673072']}},\n",
       " 'more_info_type': 0,\n",
       " 'positive_recom_flag': 0,\n",
       " 'content_auth': 0,\n",
       " 'gif_ids': '',\n",
       " 'is_show_bulletin': 2,\n",
       " 'comment_manage_info': {'comment_manage_button': 1,\n",
       "  'comment_permission_type': 0,\n",
       "  'approval_comment_type': 0}}"
      ]
     },
     "execution_count": 67,
     "metadata": {},
     "output_type": "execute_result"
    }
   ],
   "source": [
    "s_data"
   ]
  },
  {
   "cell_type": "code",
   "execution_count": 68,
   "metadata": {},
   "outputs": [
    {
     "data": {
      "text/plain": [
       "dict_keys(['created_at', 'id', 'idstr', 'mid', 'can_edit', 'text', 'textLength', 'source_allowclick', 'source_type', 'source', 'favorited', 'truncated', 'in_reply_to_status_id', 'in_reply_to_user_id', 'in_reply_to_screen_name', 'pic_urls', 'thumbnail_pic', 'bmiddle_pic', 'original_pic', 'geo', 'is_paid', 'mblog_vip_type', 'user', 'annotations', 'reposts_count', 'comments_count', 'attitudes_count', 'pending_approval_count', 'isLongText', 'multi_attitude', 'hide_flag', 'mlevel', 'visible', 'biz_ids', 'biz_feature', 'page_type', 'hasActionTypeCard', 'darwin_tags', 'hot_weibo_tags', 'text_tag_tips', 'userType', 'extend_info', 'more_info_type', 'positive_recom_flag', 'content_auth', 'gif_ids', 'is_show_bulletin', 'comment_manage_info'])"
      ]
     },
     "execution_count": 68,
     "metadata": {},
     "output_type": "execute_result"
    }
   ],
   "source": [
    "'created_at', 'can_edit', 'text', 'textLength', 'source_allowclick',\n",
    "'source_type', 'source', 'favorited', 'truncated', 'pic_urls', 'thumbnail_pic', 'bmiddle_pic', 'original_pic', 'geo',\n",
    "'is_paid', 'mblog_vip_type', 'user', 'annotations', 'reposts_count', 'comments_count', \n",
    "'attitudes_count', 'pending_approval_count', 'isLongText', 'multi_attitude', 'hide_flag', 'mlevel',\n",
    "'visible', 'biz_ids', 'biz_feature', 'page_type', 'hasActionTypeCard', 'darwin_tags', 'hot_weibo_tags', \n",
    "'text_tag_tips', 'userType', 'extend_info', 'more_info_type', 'positive_recom_flag', 'content_auth', 'gif_ids',\n",
    "'is_show_bulletin', 'comment_manage_info'\n",
    "\n",
    "'id', 'idstr', 'mid', 'in_reply_to_status_id', 'in_reply_to_user_id',\n",
    "'in_reply_to_screen_name',"
   ]
  },
  {
   "cell_type": "code",
   "execution_count": 71,
   "metadata": {},
   "outputs": [],
   "source": [
    "data3, status = api.statuses.user_timeline(max_id=0)"
   ]
  },
  {
   "cell_type": "code",
   "execution_count": 73,
   "metadata": {},
   "outputs": [
    {
     "data": {
      "text/plain": [
       "{'error': 'User requests out of rate limit!',\n",
       " 'error_code': 10023,\n",
       " 'request': '/2/statuses/user_timeline.json'}"
      ]
     },
     "execution_count": 73,
     "metadata": {},
     "output_type": "execute_result"
    }
   ],
   "source": [
    "data3"
   ]
  },
  {
   "cell_type": "code",
   "execution_count": 72,
   "metadata": {},
   "outputs": [
    {
     "ename": "KeyError",
     "evalue": "'statuses'",
     "output_type": "error",
     "traceback": [
      "\u001b[0;31m---------------------------------------------------------------------------\u001b[0m",
      "\u001b[0;31mKeyError\u001b[0m                                  Traceback (most recent call last)",
      "\u001b[0;32m<ipython-input-72-6690d14c51d2>\u001b[0m in \u001b[0;36m<module>\u001b[0;34m()\u001b[0m\n\u001b[0;32m----> 1\u001b[0;31m \u001b[0;32mfor\u001b[0m \u001b[0ms_data\u001b[0m \u001b[0;32min\u001b[0m \u001b[0mdata3\u001b[0m\u001b[0;34m[\u001b[0m\u001b[0;34m'statuses'\u001b[0m\u001b[0;34m]\u001b[0m\u001b[0;34m:\u001b[0m\u001b[0;34m\u001b[0m\u001b[0m\n\u001b[0m\u001b[1;32m      2\u001b[0m     \u001b[0mstatus\u001b[0m \u001b[0;34m=\u001b[0m \u001b[0mStatus\u001b[0m\u001b[0;34m(\u001b[0m\u001b[0ms_data\u001b[0m\u001b[0;34m)\u001b[0m\u001b[0;34m\u001b[0m\u001b[0m\n\u001b[1;32m      3\u001b[0m     \u001b[0mprint\u001b[0m\u001b[0;34m(\u001b[0m\u001b[0mstatus\u001b[0m\u001b[0;34m.\u001b[0m\u001b[0mget\u001b[0m\u001b[0;34m(\u001b[0m\u001b[0;34m'_id'\u001b[0m\u001b[0;34m)\u001b[0m\u001b[0;34m,\u001b[0m \u001b[0mstatus\u001b[0m\u001b[0;34m.\u001b[0m\u001b[0mget\u001b[0m\u001b[0;34m(\u001b[0m\u001b[0;34m'created_at'\u001b[0m\u001b[0;34m)\u001b[0m\u001b[0;34m)\u001b[0m\u001b[0;34m\u001b[0m\u001b[0m\n",
      "\u001b[0;31mKeyError\u001b[0m: 'statuses'"
     ]
    }
   ],
   "source": [
    "for s_data in data3['statuses']:\n",
    "    status = Status(s_data)\n",
    "    print(status.get('_id'), status.get('created_at'))"
   ]
  },
  {
   "cell_type": "code",
   "execution_count": 33,
   "metadata": {},
   "outputs": [],
   "source": [
    "c_data, _ = api.comments.show(id=4241343654479917)"
   ]
  },
  {
   "cell_type": "code",
   "execution_count": 43,
   "metadata": {},
   "outputs": [
    {
     "name": "stdout",
     "output_type": "stream",
     "text": [
      "4251210913585992 Fri Jun 15 16:25:28 +0800 2018 4241364990027955\n"
     ]
    },
    {
     "name": "stderr",
     "output_type": "stream",
     "text": [
      "ERROR:root:E11000 duplicate key error collection: weibo_data.comments index: _id_ dup key: { : 4251210913585992 }\n",
      "WARNING:root:Duplicate id found when inserting _id: 4251210913585992 into collection: comments.\n",
      "ERROR:root:E11000 duplicate key error collection: weibo_data.comments index: _id_ dup key: { : 4241364990027955 }\n",
      "WARNING:root:Duplicate id found when inserting _id: 4241364990027955 into collection: comments.\n"
     ]
    },
    {
     "name": "stdout",
     "output_type": "stream",
     "text": [
      "4245533058418384 Thu May 31 00:23:43 +0800 2018 None\n"
     ]
    },
    {
     "name": "stderr",
     "output_type": "stream",
     "text": [
      "ERROR:root:E11000 duplicate key error collection: weibo_data.comments index: _id_ dup key: { : 4245533058418384 }\n",
      "WARNING:root:Duplicate id found when inserting _id: 4245533058418384 into collection: comments.\n"
     ]
    },
    {
     "name": "stdout",
     "output_type": "stream",
     "text": [
      "4243933770763240 Sat May 26 14:28:42 +0800 2018 None\n"
     ]
    },
    {
     "name": "stderr",
     "output_type": "stream",
     "text": [
      "ERROR:root:E11000 duplicate key error collection: weibo_data.comments index: _id_ dup key: { : 4243933770763240 }\n",
      "WARNING:root:Duplicate id found when inserting _id: 4243933770763240 into collection: comments.\n"
     ]
    },
    {
     "name": "stdout",
     "output_type": "stream",
     "text": [
      "4241702904339006 Sun May 20 10:44:02 +0800 2018 4241698579715052\n"
     ]
    },
    {
     "name": "stderr",
     "output_type": "stream",
     "text": [
      "ERROR:root:E11000 duplicate key error collection: weibo_data.comments index: _id_ dup key: { : 4241702904339006 }\n",
      "WARNING:root:Duplicate id found when inserting _id: 4241702904339006 into collection: comments.\n",
      "ERROR:root:E11000 duplicate key error collection: weibo_data.comments index: _id_ dup key: { : 4241698579715052 }\n",
      "WARNING:root:Duplicate id found when inserting _id: 4241698579715052 into collection: comments.\n"
     ]
    },
    {
     "name": "stdout",
     "output_type": "stream",
     "text": [
      "4241698701379189 Sun May 20 10:27:21 +0800 2018 4241358799683935\n"
     ]
    },
    {
     "name": "stderr",
     "output_type": "stream",
     "text": [
      "ERROR:root:E11000 duplicate key error collection: weibo_data.comments index: _id_ dup key: { : 4241698701379189 }\n",
      "WARNING:root:Duplicate id found when inserting _id: 4241698701379189 into collection: comments.\n",
      "ERROR:root:E11000 duplicate key error collection: weibo_data.comments index: _id_ dup key: { : 4241358799683935 }\n",
      "WARNING:root:Duplicate id found when inserting _id: 4241358799683935 into collection: comments.\n"
     ]
    },
    {
     "name": "stdout",
     "output_type": "stream",
     "text": [
      "4241698579715052 Sun May 20 10:26:52 +0800 2018 4241358799683935\n"
     ]
    },
    {
     "name": "stderr",
     "output_type": "stream",
     "text": [
      "ERROR:root:E11000 duplicate key error collection: weibo_data.comments index: _id_ dup key: { : 4241698579715052 }\n",
      "WARNING:root:Duplicate id found when inserting _id: 4241698579715052 into collection: comments.\n",
      "ERROR:root:E11000 duplicate key error collection: weibo_data.users index: _id_ dup key: { : 6516324300 }\n",
      "WARNING:root:Duplicate id found when inserting _id: 6516324300 into collection: users.\n",
      "ERROR:root:E11000 duplicate key error collection: weibo_data.comments index: _id_ dup key: { : 4241358799683935 }\n",
      "WARNING:root:Duplicate id found when inserting _id: 4241358799683935 into collection: comments.\n"
     ]
    },
    {
     "name": "stdout",
     "output_type": "stream",
     "text": [
      "4241489087035776 Sat May 19 20:34:24 +0800 2018 None\n"
     ]
    },
    {
     "name": "stderr",
     "output_type": "stream",
     "text": [
      "ERROR:root:E11000 duplicate key error collection: weibo_data.comments index: _id_ dup key: { : 4241489087035776 }\n",
      "WARNING:root:Duplicate id found when inserting _id: 4241489087035776 into collection: comments.\n"
     ]
    },
    {
     "name": "stdout",
     "output_type": "stream",
     "text": [
      "4241408107715596 Sat May 19 15:12:37 +0800 2018 None\n"
     ]
    },
    {
     "name": "stderr",
     "output_type": "stream",
     "text": [
      "ERROR:root:E11000 duplicate key error collection: weibo_data.comments index: _id_ dup key: { : 4241408107715596 }\n",
      "WARNING:root:Duplicate id found when inserting _id: 4241408107715596 into collection: comments.\n"
     ]
    },
    {
     "name": "stdout",
     "output_type": "stream",
     "text": [
      "4241380651482413 Sat May 19 13:23:32 +0800 2018 None\n"
     ]
    },
    {
     "name": "stderr",
     "output_type": "stream",
     "text": [
      "ERROR:root:E11000 duplicate key error collection: weibo_data.comments index: _id_ dup key: { : 4241380651482413 }\n",
      "WARNING:root:Duplicate id found when inserting _id: 4241380651482413 into collection: comments.\n",
      "ERROR:root:E11000 duplicate key error collection: weibo_data.users index: _id_ dup key: { : 1708222075 }\n",
      "WARNING:root:Duplicate id found when inserting _id: 1708222075 into collection: users.\n"
     ]
    },
    {
     "name": "stdout",
     "output_type": "stream",
     "text": [
      "4241375384227765 Sat May 19 13:02:35 +0800 2018 4241373853228872\n"
     ]
    },
    {
     "name": "stderr",
     "output_type": "stream",
     "text": [
      "ERROR:root:E11000 duplicate key error collection: weibo_data.comments index: _id_ dup key: { : 4241375384227765 }\n",
      "WARNING:root:Duplicate id found when inserting _id: 4241375384227765 into collection: comments.\n",
      "ERROR:root:E11000 duplicate key error collection: weibo_data.users index: _id_ dup key: { : 3928609054 }\n",
      "WARNING:root:Duplicate id found when inserting _id: 3928609054 into collection: users.\n",
      "ERROR:root:E11000 duplicate key error collection: weibo_data.comments index: _id_ dup key: { : 4241373853228872 }\n",
      "WARNING:root:Duplicate id found when inserting _id: 4241373853228872 into collection: comments.\n"
     ]
    },
    {
     "name": "stdout",
     "output_type": "stream",
     "text": [
      "4241373853228872 Sat May 19 12:56:30 +0800 2018 4241358799683935\n"
     ]
    },
    {
     "name": "stderr",
     "output_type": "stream",
     "text": [
      "ERROR:root:E11000 duplicate key error collection: weibo_data.comments index: _id_ dup key: { : 4241373853228872 }\n",
      "WARNING:root:Duplicate id found when inserting _id: 4241373853228872 into collection: comments.\n",
      "ERROR:root:E11000 duplicate key error collection: weibo_data.comments index: _id_ dup key: { : 4241358799683935 }\n",
      "WARNING:root:Duplicate id found when inserting _id: 4241358799683935 into collection: comments.\n"
     ]
    },
    {
     "name": "stdout",
     "output_type": "stream",
     "text": [
      "4241364990027955 Sat May 19 12:21:18 +0800 2018 None\n"
     ]
    },
    {
     "name": "stderr",
     "output_type": "stream",
     "text": [
      "ERROR:root:E11000 duplicate key error collection: weibo_data.comments index: _id_ dup key: { : 4241364990027955 }\n",
      "WARNING:root:Duplicate id found when inserting _id: 4241364990027955 into collection: comments.\n"
     ]
    },
    {
     "name": "stdout",
     "output_type": "stream",
     "text": [
      "4241358799683935 Sat May 19 11:56:41 +0800 2018 None\n"
     ]
    },
    {
     "name": "stderr",
     "output_type": "stream",
     "text": [
      "ERROR:root:E11000 duplicate key error collection: weibo_data.comments index: _id_ dup key: { : 4241358799683935 }\n",
      "WARNING:root:Duplicate id found when inserting _id: 4241358799683935 into collection: comments.\n",
      "ERROR:root:E11000 duplicate key error collection: weibo_data.users index: _id_ dup key: { : 3928609054 }\n",
      "WARNING:root:Duplicate id found when inserting _id: 3928609054 into collection: users.\n"
     ]
    }
   ],
   "source": [
    "for c in c_data['comments']:\n",
    "    comment = Comment(c)\n",
    "    print(comment.get('_id'), comment.get('created_at'), comment.get('reply_id'))\n",
    "    comment.write(writer=writer, write_obj=True) "
   ]
  },
  {
   "cell_type": "code",
   "execution_count": 41,
   "metadata": {},
   "outputs": [],
   "source": [
    "c_data2, _ = api.comments.show(id=4241343654479917, page=2)\n",
    "for c in c_data2['comments']:\n",
    "    comment = Comment(c)\n",
    "    print(comment.get('_id'), comment.get('created_at'), comment.get('reply_id'))\n",
    "    status.write(writer=writer) "
   ]
  },
  {
   "cell_type": "code",
   "execution_count": 54,
   "metadata": {},
   "outputs": [
    {
     "name": "stdout",
     "output_type": "stream",
     "text": [
      "4259206032691689 60 Sat Jul 07 17:55:13 +0800 2018 4250426327276250 None\n",
      "4257895908341169 0 Wed Jul 04 03:09:15 +0800 2018 4250426327276250 4250620259670924\n",
      "4257838387854399 59 Tue Jul 03 23:20:41 +0800 2018 4250426327276250 None\n",
      "4254975343009732 58 Tue Jun 26 01:43:58 +0800 2018 4250426327276250 None\n",
      "4254198877519865 57 Sat Jun 23 22:18:34 +0800 2018 4250426327276250 None\n",
      "4252939264331013 56 Wed Jun 20 10:53:18 +0800 2018 4250426327276250 None\n",
      "4251844676740213 55 Sun Jun 17 10:23:49 +0800 2018 4250426327276250 None\n",
      "4251818151961743 54 Sun Jun 17 08:38:24 +0800 2018 4250426327276250 None\n",
      "4251806529390153 53 Sun Jun 17 07:52:15 +0800 2018 4250426327276250 None\n",
      "4251596248239347 51 Sat Jun 16 17:56:38 +0800 2018 4250426327276250 None\n",
      "4251449976667290 50 Sat Jun 16 08:15:25 +0800 2018 4250426327276250 None\n",
      "4251428078415332 49 Sat Jun 16 06:48:24 +0800 2018 4250426327276250 None\n",
      "4251288319498696 48 Fri Jun 15 21:33:03 +0800 2018 4250426327276250 None\n",
      "4251261500654057 47 Fri Jun 15 19:46:29 +0800 2018 4250426327276250 None\n",
      "4251246065625227 46 Fri Jun 15 18:45:08 +0800 2018 4250426327276250 None\n",
      "4251245516359382 45 Fri Jun 15 18:42:58 +0800 2018 4250426327276250 None\n",
      "4251238990528042 44 Fri Jun 15 18:17:01 +0800 2018 4250426327276250 None\n",
      "4251238079569992 43 Fri Jun 15 18:13:24 +0800 2018 4250426327276250 None\n",
      "4251236238634228 42 Fri Jun 15 18:06:06 +0800 2018 4250426327276250 None\n",
      "4251229629154360 41 Fri Jun 15 17:39:50 +0800 2018 4250426327276250 None\n",
      "4251221440861741 40 Fri Jun 15 17:07:18 +0800 2018 4250426327276250 None\n",
      "4251220945990624 0 Fri Jun 15 17:05:19 +0800 2018 4250426327276250 4250434762343534\n",
      "4251205872099892 39 Fri Jun 15 16:05:25 +0800 2018 4250426327276250 None\n",
      "4251200469115505 0 Fri Jun 15 15:43:58 +0800 2018 4250426327276250 4250430428764282\n",
      "4251198179352409 38 Fri Jun 15 15:34:52 +0800 2018 4250426327276250 None\n",
      "4251197332174719 37 Fri Jun 15 15:31:29 +0800 2018 4250426327276250 None\n",
      "4251196845669073 36 Fri Jun 15 15:29:33 +0800 2018 4250426327276250 None\n",
      "4251190189537697 35 Fri Jun 15 15:03:06 +0800 2018 4250426327276250 None\n",
      "4251184950411598 0 Fri Jun 15 14:42:18 +0800 2018 4250426327276250 4250434762343534\n",
      "4251181474308301 34 Fri Jun 15 14:28:29 +0800 2018 4250426327276250 None\n",
      "4251179271245513 33 Fri Jun 15 14:19:43 +0800 2018 4250426327276250 None\n",
      "4250834688320259 32 Thu Jun 14 15:30:29 +0800 2018 4250426327276250 None\n",
      "4250767889571531 31 Thu Jun 14 11:05:04 +0800 2018 4250426327276250 None\n",
      "4250739544928150 30 Thu Jun 14 09:12:24 +0800 2018 4250426327276250 None\n",
      "4250739088402805 29 Thu Jun 14 09:10:36 +0800 2018 4250426327276250 None\n",
      "4250730812377126 28 Thu Jun 14 08:37:42 +0800 2018 4250426327276250 None\n",
      "4250704161699262 27 Thu Jun 14 06:51:49 +0800 2018 4250426327276250 None\n",
      "4250695202733500 26 Thu Jun 14 06:16:13 +0800 2018 4250426327276250 None\n",
      "4250683034851248 25 Thu Jun 14 05:27:52 +0800 2018 4250426327276250 None\n",
      "4250669907682218 24 Thu Jun 14 04:35:42 +0800 2018 4250426327276250 None\n",
      "4250620259670924 23 Thu Jun 14 01:18:24 +0800 2018 4250426327276250 None\n",
      "4250603335040149 22 Thu Jun 14 00:11:10 +0800 2018 4250426327276250 None\n",
      "4250598968813829 0 Wed Jun 13 23:53:49 +0800 2018 4250426327276250 4250434762343534\n",
      "4250586662332157 21 Wed Jun 13 23:04:54 +0800 2018 4250426327276250 None\n",
      "4250581880969231 20 Wed Jun 13 22:45:55 +0800 2018 4250426327276250 None\n",
      "4250581109844812 0 Wed Jun 13 22:42:51 +0800 2018 4250426327276250 4250434762343534\n",
      "4250579012242058 19 Wed Jun 13 22:34:31 +0800 2018 4250426327276250 None\n",
      "4250569054859627 18 Wed Jun 13 21:54:56 +0800 2018 4250426327276250 None\n",
      "4250552680238552 17 Wed Jun 13 20:49:53 +0800 2018 4250426327276250 None\n",
      "4250550721303029 16 Wed Jun 13 20:42:07 +0800 2018 4250426327276250 None\n"
     ]
    }
   ],
   "source": [
    "# data, status = api.comments.show(id=4250426327276250)\n",
    "\n",
    "for s_data in data['comments']:\n",
    "    print(s_data['id'], s_data['floor_number'], s_data['created_at'], s_data['status']['id'], s_data.get('reply_comment', {}).get('id'))\n",
    "#     s_data['text']"
   ]
  },
  {
   "cell_type": "code",
   "execution_count": 69,
   "metadata": {},
   "outputs": [],
   "source": [
    "data, _ = api.users.show(uid=2625796571)"
   ]
  },
  {
   "cell_type": "code",
   "execution_count": 70,
   "metadata": {},
   "outputs": [
    {
     "data": {
      "text/plain": [
       "{'id': 2625796571,\n",
       " 'idstr': '2625796571',\n",
       " 'class': 1,\n",
       " 'screen_name': '璇在天空下的一米阳光',\n",
       " 'name': '璇在天空下的一米阳光',\n",
       " 'province': '14',\n",
       " 'city': '1',\n",
       " 'location': '山西 太原',\n",
       " 'description': '',\n",
       " 'url': 'http://weibo.com/u/2625796571',\n",
       " 'profile_image_url': 'http://tvax3.sinaimg.cn/crop.0.0.1242.1242.50/9c8279dbly8frxb9e3rj4j20yi0yignd.jpg',\n",
       " 'cover_image': 'http://ww2.sinaimg.cn/crop.0.16.980.300/9c8279dbjw1eai8mqtoj1j20r80fbdmt.jpg',\n",
       " 'cover_image_phone': 'http://ww2.sinaimg.cn/crop.0.0.640.640.640/a1d3feabjw1ecatccqmkbj20hs0hsmzb.jpg',\n",
       " 'profile_url': 'u/2625796571',\n",
       " 'domain': '',\n",
       " 'weihao': '',\n",
       " 'gender': 'f',\n",
       " 'followers_count': 0,\n",
       " 'friends_count': 0,\n",
       " 'pagefriends_count': 0,\n",
       " 'statuses_count': 0,\n",
       " 'video_status_count': 0,\n",
       " 'favourites_count': 629,\n",
       " 'created_at': 'Tue Feb 21 21:23:00 +0800 2012',\n",
       " 'following': False,\n",
       " 'allow_all_act_msg': True,\n",
       " 'geo_enabled': True,\n",
       " 'verified': False,\n",
       " 'verified_type': 10,\n",
       " 'remark': '',\n",
       " 'insecurity': {'sexual_content': False},\n",
       " 'status': {},\n",
       " 'ptype': 0,\n",
       " 'allow_all_comment': True,\n",
       " 'avatar_large': 'http://tvax3.sinaimg.cn/crop.0.0.1242.1242.180/9c8279dbly8frxb9e3rj4j20yi0yignd.jpg',\n",
       " 'avatar_hd': 'http://tvax3.sinaimg.cn/crop.0.0.1242.1242.1024/9c8279dbly8frxb9e3rj4j20yi0yignd.jpg',\n",
       " 'verified_reason': '',\n",
       " 'verified_trade': '',\n",
       " 'verified_reason_url': '',\n",
       " 'verified_source': '',\n",
       " 'verified_source_url': '',\n",
       " 'follow_me': True,\n",
       " 'like': False,\n",
       " 'like_me': False,\n",
       " 'online_status': 0,\n",
       " 'bi_followers_count': 81,\n",
       " 'lang': 'zh-cn',\n",
       " 'star': 0,\n",
       " 'mbtype': 11,\n",
       " 'mbrank': 1,\n",
       " 'block_word': 0,\n",
       " 'block_app': 1,\n",
       " 'credit_score': 80,\n",
       " 'user_ability': 35652608,\n",
       " 'cardid': 'star_699',\n",
       " 'avatargj_id': 'gj_vip_060',\n",
       " 'urank': 36,\n",
       " 'story_read_state': -1,\n",
       " 'vclub_member': 0}"
      ]
     },
     "execution_count": 70,
     "metadata": {},
     "output_type": "execute_result"
    }
   ],
   "source": [
    "data"
   ]
  },
  {
   "cell_type": "code",
   "execution_count": null,
   "metadata": {},
   "outputs": [],
   "source": [
    "from weibo_data import *\n",
    "from utils import MongoWriter\n",
    "\n",
    "\n",
    "def main(cred):\n",
    "    writer = MongoWriter(**cred['mongo'])\n",
    "    oauth = wb.OAuthHandler(**cred['weibo']).authorize()\n",
    "    api = wb.API(oauth=oauth)\n",
    "    data, _ = api.statuses.user_timeline()\n",
    "    for s_data in data['statuses']:\n",
    "        status = Status(s_data)\n",
    "        print(status)\n",
    "        status.write(writer=writer)\n",
    "\n",
    "\n",
    "if __name__ == '__main__':\n",
    "    with open('./credentials.yml') as f:\n",
    "        cred = yaml.load(f)\n",
    "    main(cred=cred)"
   ]
  },
  {
   "cell_type": "code",
   "execution_count": null,
   "metadata": {},
   "outputs": [],
   "source": [
    "api = wb.API(oauth)\n",
    "data, status = api.statuses.user_timeline(count=100)"
   ]
  },
  {
   "cell_type": "code",
   "execution_count": null,
   "metadata": {},
   "outputs": [],
   "source": [
    "statuses = data.get('statuses', [])"
   ]
  },
  {
   "cell_type": "code",
   "execution_count": null,
   "metadata": {},
   "outputs": [],
   "source": [
    "for status in statuses:\n",
    "    print(status.get('created_at'), status.get('id'))"
   ]
  },
  {
   "cell_type": "code",
   "execution_count": null,
   "metadata": {},
   "outputs": [],
   "source": [
    "data, status = api.statuses.user_timeline(count=100, max_id=4248766729509158, trim_user=1)"
   ]
  },
  {
   "cell_type": "code",
   "execution_count": null,
   "metadata": {},
   "outputs": [],
   "source": [
    "statuses2 = data.get('statuses', [])"
   ]
  },
  {
   "cell_type": "code",
   "execution_count": null,
   "metadata": {},
   "outputs": [],
   "source": [
    "for status in statuses2:\n",
    "    print(status.get('created_at'), status.get('id'))"
   ]
  },
  {
   "cell_type": "code",
   "execution_count": null,
   "metadata": {},
   "outputs": [],
   "source": [
    "status = statuses2[2]\n",
    "status"
   ]
  },
  {
   "cell_type": "code",
   "execution_count": null,
   "metadata": {},
   "outputs": [],
   "source": [
    "status.keys()"
   ]
  },
  {
   "cell_type": "code",
   "execution_count": null,
   "metadata": {},
   "outputs": [],
   "source": [
    "data, _ = api.statuses.show(id='4243617021947926')"
   ]
  },
  {
   "cell_type": "code",
   "execution_count": null,
   "metadata": {},
   "outputs": [],
   "source": [
    "data.keys()"
   ]
  },
  {
   "cell_type": "code",
   "execution_count": null,
   "metadata": {},
   "outputs": [],
   "source": [
    "data['user']"
   ]
  },
  {
   "cell_type": "code",
   "execution_count": null,
   "metadata": {},
   "outputs": [],
   "source": [
    "data, _ = api.users.show(uid='1292378751')"
   ]
  },
  {
   "cell_type": "code",
   "execution_count": null,
   "metadata": {},
   "outputs": [],
   "source": [
    "data"
   ]
  },
  {
   "cell_type": "code",
   "execution_count": null,
   "metadata": {},
   "outputs": [],
   "source": [
    "help(api.users.show)"
   ]
  },
  {
   "cell_type": "code",
   "execution_count": null,
   "metadata": {},
   "outputs": [],
   "source": [
    "'screen_name', 'name', 'province', 'city', 'location', 'description', 'url', 'profile_image_url', \n",
    "'cover_image', 'cover_image_phone', 'profile_url', 'domain', 'gender', 'followers_count', 'friends_count', \n",
    "'pagefriends_count', 'statuses_count', 'video_status_count', 'favourites_count', 'created_at', 'geo_enabled',\n",
    "'verified', 'insecurity', 'ptype', 'allow_all_comment', 'avatar_large', 'avatar_hd', 'verified_reason', \n",
    "'verified_state', 'verified_level', 'verified_type_ext', 'has_service_tel', 'verified_contact_name', \n",
    "'verified_contact_email', 'verified_contact_mobile', 'follow_me', 'like', 'like_me', 'online_status', 'bi_followers_count', 'lang', 'star', 'mbtype', 'mbrank', 'block_word', 'block_app', 'credit_score', 'user_ability', 'urank', 'story_read_state', 'vclub_member'"
   ]
  },
  {
   "cell_type": "code",
   "execution_count": null,
   "metadata": {},
   "outputs": [],
   "source": [
    "'screen_name', 'name', 'province', 'city', 'location', 'description', 'url', 'profile_image_url',\n",
    "'cover_image', 'cover_image_phone', 'profile_url', 'domain', 'gender', 'followers_count', 'friends_count',\n",
    "'pagefriends_count', 'statuses_count', 'video_status_count', 'favourites_count', 'created_at', 'geo_enabled', \n",
    "'verified', 'insecurity', 'ptype', 'allow_all_comment', 'avatar_large', 'avatar_hd', 'verified_reason', \n",
    "'verified_state', 'verified_level', 'verified_type_ext', 'has_service_tel','verified_contact_name',\n",
    "'verified_contact_email', 'verified_contact_mobile', 'follow_me', 'like', \\\n",
    "            'like_me', 'online_status', 'bi_followers_count', 'lang', 'star', 'block_word', 'block_app', 'credit_score',\\\n",
    "            'user_ability', 'urank', 'story_read_state',"
   ]
  },
  {
   "cell_type": "code",
   "execution_count": null,
   "metadata": {},
   "outputs": [],
   "source": [
    "data, _ = api.comments.show(id='4250426327276250')"
   ]
  },
  {
   "cell_type": "code",
   "execution_count": null,
   "metadata": {},
   "outputs": [],
   "source": [
    "comments = data['comments']\n",
    "len(comments)"
   ]
  },
  {
   "cell_type": "code",
   "execution_count": null,
   "metadata": {},
   "outputs": [],
   "source": [
    "for c in comments:\n",
    "    print(c['created_at'], c['id'])"
   ]
  },
  {
   "cell_type": "code",
   "execution_count": null,
   "metadata": {},
   "outputs": [],
   "source": [
    "data2, _ = api.comments.show(id='4250426327276250', max_id='4250427878887380')"
   ]
  },
  {
   "cell_type": "code",
   "execution_count": null,
   "metadata": {},
   "outputs": [],
   "source": [
    "comments = data2['comments']\n",
    "\n",
    "for c in comments:\n",
    "    print(c['created_at'], c['id'])"
   ]
  },
  {
   "cell_type": "code",
   "execution_count": null,
   "metadata": {},
   "outputs": [],
   "source": []
  }
 ],
 "metadata": {
  "kernelspec": {
   "display_name": "Python 3",
   "language": "python",
   "name": "python3"
  },
  "language_info": {
   "codemirror_mode": {
    "name": "ipython",
    "version": 3
   },
   "file_extension": ".py",
   "mimetype": "text/x-python",
   "name": "python",
   "nbconvert_exporter": "python",
   "pygments_lexer": "ipython3",
   "version": "3.6.5"
  }
 },
 "nbformat": 4,
 "nbformat_minor": 1
}
