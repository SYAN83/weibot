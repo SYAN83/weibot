{
 "cells": [
  {
   "cell_type": "code",
   "execution_count": 1,
   "metadata": {},
   "outputs": [
    {
     "name": "stdout",
     "output_type": "stream",
     "text": [
      "Please load the link https://api.weibo.com/oauth2/authorize?response_type=code&client_id=3677147061&redirect_uri=https%3A%2F%2Fwww.greenpeace.org%2F&state=02oxq90VsCcjJ15z9k1TB7HvHn1Ick to your browser and authorize weibo API access.\n",
      "Enter the full callback URL: https://www.greenpeace.org/usa/?state=02oxq90VsCcjJ15z9k1TB7HvHn1Ick&code=53ead9f0a340ab591555cd11d728a930\n",
      "UID: 1292378751\n",
      "Access Token expires at: 2023/07/09 22:13:07\n"
     ]
    }
   ],
   "source": [
    "import sys\n",
    "sys.path.append('./venv/lib/python3.6/site-packages/')\n",
    "\n",
    "import yaml\n",
    "import weibopy as wb\n",
    "\n",
    "\n",
    "with open('./credentials.yml') as f:\n",
    "    cred = yaml.load(f)\n",
    "\n",
    "oauth = wb.OAuthHandler(**cred['weibo']).authorize()\n",
    "api = wb.API(oauth=oauth)\n",
    "# data, status = api.statuses.user_timeline()"
   ]
  },
  {
   "cell_type": "code",
   "execution_count": 2,
   "metadata": {},
   "outputs": [],
   "source": [
    "from utils import MongoWriter\n",
    "from weibo_data import *\n",
    "writer = MongoWriter(**cred['mongo'])"
   ]
  },
  {
   "cell_type": "code",
   "execution_count": 3,
   "metadata": {},
   "outputs": [
    {
     "data": {
      "text/plain": [
       "0"
      ]
     },
     "execution_count": 3,
     "metadata": {},
     "output_type": "execute_result"
    }
   ],
   "source": [
    "writer.get_since_id(collection='statuses')"
   ]
  },
  {
   "cell_type": "code",
   "execution_count": 4,
   "metadata": {},
   "outputs": [],
   "source": [
    "def crawl_statuses(since_id=0, insert: bool=False):\n",
    "    records = list()\n",
    "    skip_id = set()\n",
    "    max_id = 0\n",
    "    while True:\n",
    "        data, _ = api.statuses.user_timeline(since_id=since_id, max_id=max_id)\n",
    "        records = [s for s in [Status(x) for x in data['statuses']] if s.get('_id') not in skip_id]\n",
    "        print(len(records))\n",
    "        if records:\n",
    "            for record in records:\n",
    "                if record.get('_id') not in skip_id:\n",
    "                    print(record.get('_id'), record.get('created_at'))\n",
    "                    if insert:\n",
    "                        record.write(writer=writer)\n",
    "                    skip_id.add(record.get('_id'))\n",
    "            else:\n",
    "                max_id = record.get('_id')\n",
    "        else:\n",
    "            break"
   ]
  },
  {
   "cell_type": "code",
   "execution_count": 9,
   "metadata": {},
   "outputs": [],
   "source": [
    "def crawl_comments(sid, since_id=0, insert: bool=False):\n",
    "    records = list()\n",
    "    skip_id = set()\n",
    "    max_id = 0\n",
    "    while True:\n",
    "        data, _ = api.comments.show(id=sid, since_id=since_id, max_id=max_id)\n",
    "        records = [s for s in [Comment(x) for x in data['comments']] if s.get('_id') not in skip_id]\n",
    "        print(len(records))\n",
    "        if records:\n",
    "            for record in records:\n",
    "                if record.get('_id') not in skip_id:\n",
    "                    print(record.get('_id'), record.get('created_at'))\n",
    "                    if insert:\n",
    "                        record.write(writer=writer)\n",
    "                    skip_id.add(record.get('_id'))\n",
    "            else:\n",
    "                max_id = record.get('_id')\n",
    "        else:\n",
    "            break"
   ]
  },
  {
   "cell_type": "code",
   "execution_count": 10,
   "metadata": {},
   "outputs": [
    {
     "name": "stdout",
     "output_type": "stream",
     "text": [
      "15\n",
      "4247621042839473 Tue Jun 05 18:40:36 +0800 2018\n",
      "4247591015228869 Tue Jun 05 16:41:17 +0800 2018\n",
      "4247589609939666 Tue Jun 05 16:35:42 +0800 2018\n"
     ]
    },
    {
     "name": "stderr",
     "output_type": "stream",
     "text": [
      "ERROR:root:E11000 duplicate key error collection: weibo_data.comments index: _id_ dup key: { : 4247589609939666 }\n",
      "WARNING:root:Duplicate id found when inserting _id: 4247589609939666 into collection: comments.\n"
     ]
    },
    {
     "name": "stdout",
     "output_type": "stream",
     "text": [
      "4247588854679883 Tue Jun 05 16:32:42 +0800 2018\n",
      "4247587849107579 Tue Jun 05 16:28:42 +0800 2018\n"
     ]
    },
    {
     "name": "stderr",
     "output_type": "stream",
     "text": [
      "ERROR:root:E11000 duplicate key error collection: weibo_data.users index: _id_ dup key: { : 6508355557 }\n",
      "WARNING:root:Duplicate id found when inserting _id: 6508355557 into collection: users.\n"
     ]
    },
    {
     "name": "stdout",
     "output_type": "stream",
     "text": [
      "4247586757668297 Tue Jun 05 16:24:22 +0800 2018\n",
      "4247585336284492 Tue Jun 05 16:18:43 +0800 2018\n",
      "4247585038101360 Tue Jun 05 16:17:31 +0800 2018\n",
      "4247584165799887 Tue Jun 05 16:14:04 +0800 2018\n",
      "4247569318554993 Tue Jun 05 15:15:04 +0800 2018\n",
      "4247561815154053 Tue Jun 05 14:45:14 +0800 2018\n",
      "4247558542610850 Tue Jun 05 14:32:14 +0800 2018\n",
      "4247556907409410 Tue Jun 05 14:25:45 +0800 2018\n"
     ]
    },
    {
     "name": "stderr",
     "output_type": "stream",
     "text": [
      "ERROR:root:E11000 duplicate key error collection: weibo_data.users index: _id_ dup key: { : 1256234111 }\n",
      "WARNING:root:Duplicate id found when inserting _id: 1256234111 into collection: users.\n"
     ]
    },
    {
     "name": "stdout",
     "output_type": "stream",
     "text": [
      "4246713642073295 Sun Jun 03 06:34:55 +0800 2018\n",
      "4246563519743440 Sat Jun 02 20:38:22 +0800 2018\n",
      "0\n"
     ]
    }
   ],
   "source": [
    "crawl_comments(sid=4246117354311557, since_id=0, insert=True)"
   ]
  },
  {
   "cell_type": "code",
   "execution_count": null,
   "metadata": {},
   "outputs": [],
   "source": [
    "data, _ = api.statuses.user_timeline()"
   ]
  },
  {
   "cell_type": "code",
   "execution_count": null,
   "metadata": {},
   "outputs": [],
   "source": [
    "skip_id = set()\n",
    "records = [s for s in [Status(x) for x in data['statuses']] if s.get('_id') not in skip_id]"
   ]
  },
  {
   "cell_type": "code",
   "execution_count": null,
   "metadata": {},
   "outputs": [],
   "source": [
    "records[0]._data['_id']"
   ]
  },
  {
   "cell_type": "code",
   "execution_count": 5,
   "metadata": {},
   "outputs": [
    {
     "name": "stdout",
     "output_type": "stream",
     "text": [
      "5\n",
      "4250426327276250 Wed Jun 13 12:27:48 +0800 2018\n",
      "4257970281382180 Wed Jul 04 08:04:48 +0800 2018\n"
     ]
    },
    {
     "name": "stderr",
     "output_type": "stream",
     "text": [
      "ERROR:root:E11000 duplicate key error collection: weibo_data.users index: _id_ dup key: { : 1292378751 }\n",
      "WARNING:root:Duplicate id found when inserting _id: 1292378751 into collection: users.\n"
     ]
    },
    {
     "name": "stdout",
     "output_type": "stream",
     "text": [
      "4251242778027475 Fri Jun 15 18:32:05 +0800 2018\n"
     ]
    },
    {
     "name": "stderr",
     "output_type": "stream",
     "text": [
      "ERROR:root:E11000 duplicate key error collection: weibo_data.users index: _id_ dup key: { : 1292378751 }\n",
      "WARNING:root:Duplicate id found when inserting _id: 1292378751 into collection: users.\n"
     ]
    },
    {
     "name": "stdout",
     "output_type": "stream",
     "text": [
      "4248940779458347 Sat Jun 09 10:04:47 +0800 2018\n"
     ]
    },
    {
     "name": "stderr",
     "output_type": "stream",
     "text": [
      "ERROR:root:E11000 duplicate key error collection: weibo_data.users index: _id_ dup key: { : 1292378751 }\n",
      "WARNING:root:Duplicate id found when inserting _id: 1292378751 into collection: users.\n"
     ]
    },
    {
     "name": "stdout",
     "output_type": "stream",
     "text": [
      "4248766729509158 Fri Jun 08 22:33:09 +0800 2018\n"
     ]
    },
    {
     "name": "stderr",
     "output_type": "stream",
     "text": [
      "ERROR:root:E11000 duplicate key error collection: weibo_data.users index: _id_ dup key: { : 1292378751 }\n",
      "WARNING:root:Duplicate id found when inserting _id: 1292378751 into collection: users.\n"
     ]
    },
    {
     "name": "stdout",
     "output_type": "stream",
     "text": [
      "4\n",
      "4247581435297686 Tue Jun 05 16:03:13 +0800 2018\n"
     ]
    },
    {
     "name": "stderr",
     "output_type": "stream",
     "text": [
      "ERROR:root:E11000 duplicate key error collection: weibo_data.users index: _id_ dup key: { : 1292378751 }\n",
      "WARNING:root:Duplicate id found when inserting _id: 1292378751 into collection: users.\n"
     ]
    },
    {
     "name": "stdout",
     "output_type": "stream",
     "text": [
      "4246117354311557 Fri Jun 01 15:05:29 +0800 2018\n"
     ]
    },
    {
     "name": "stderr",
     "output_type": "stream",
     "text": [
      "ERROR:root:E11000 duplicate key error collection: weibo_data.users index: _id_ dup key: { : 1292378751 }\n",
      "WARNING:root:Duplicate id found when inserting _id: 1292378751 into collection: users.\n"
     ]
    },
    {
     "name": "stdout",
     "output_type": "stream",
     "text": [
      "4243617021947926 Fri May 25 17:30:03 +0800 2018\n"
     ]
    },
    {
     "name": "stderr",
     "output_type": "stream",
     "text": [
      "ERROR:root:E11000 duplicate key error collection: weibo_data.users index: _id_ dup key: { : 1292378751 }\n",
      "WARNING:root:Duplicate id found when inserting _id: 1292378751 into collection: users.\n"
     ]
    },
    {
     "name": "stdout",
     "output_type": "stream",
     "text": [
      "4241343654479917 Sat May 19 10:56:29 +0800 2018\n"
     ]
    },
    {
     "name": "stderr",
     "output_type": "stream",
     "text": [
      "ERROR:root:E11000 duplicate key error collection: weibo_data.users index: _id_ dup key: { : 1292378751 }\n",
      "WARNING:root:Duplicate id found when inserting _id: 1292378751 into collection: users.\n"
     ]
    },
    {
     "name": "stdout",
     "output_type": "stream",
     "text": [
      "0\n"
     ]
    }
   ],
   "source": [
    "crawl_statuses(since_id=0, insert=True)"
   ]
  },
  {
   "cell_type": "code",
   "execution_count": null,
   "metadata": {},
   "outputs": [],
   "source": [
    "crawl_statuses(since_id=4243617021947926)"
   ]
  },
  {
   "cell_type": "code",
   "execution_count": null,
   "metadata": {},
   "outputs": [],
   "source": [
    "for s_data in data['statuses']:\n",
    "    status = Status(s_data)\n",
    "    \n",
    "    print(status.get('_id'), status.get('created_at'))\n",
    "    print(len(status._data.keys()), list(status._data.keys()))\n",
    "#     status.write(writer=writer) "
   ]
  },
  {
   "cell_type": "code",
   "execution_count": null,
   "metadata": {},
   "outputs": [],
   "source": [
    "data2, status = api.statuses.user_timeline(max_id=4248766729509158)"
   ]
  },
  {
   "cell_type": "code",
   "execution_count": null,
   "metadata": {},
   "outputs": [],
   "source": [
    "for s_data in data2['statuses']:\n",
    "    status = Status(s_data)\n",
    "    print(status.get('_id'), status.get('created_at'))\n",
    "    print(len(status._data.keys()), list(status._data.keys()))"
   ]
  },
  {
   "cell_type": "code",
   "execution_count": null,
   "metadata": {},
   "outputs": [],
   "source": [
    "s_data"
   ]
  },
  {
   "cell_type": "code",
   "execution_count": null,
   "metadata": {},
   "outputs": [],
   "source": [
    "'created_at', 'can_edit', 'text', 'textLength', 'source_allowclick',\n",
    "'source_type', 'source', 'favorited', 'truncated', 'pic_urls', 'thumbnail_pic', 'bmiddle_pic', 'original_pic', 'geo',\n",
    "'is_paid', 'mblog_vip_type', 'user', 'annotations', 'reposts_count', 'comments_count', \n",
    "'attitudes_count', 'pending_approval_count', 'isLongText', 'multi_attitude', 'hide_flag', 'mlevel',\n",
    "'visible', 'biz_ids', 'biz_feature', 'page_type', 'hasActionTypeCard', 'darwin_tags', 'hot_weibo_tags', \n",
    "'text_tag_tips', 'userType', 'extend_info', 'more_info_type', 'positive_recom_flag', 'content_auth', 'gif_ids',\n",
    "'is_show_bulletin', 'comment_manage_info'\n",
    "\n",
    "'id', 'idstr', 'mid', 'in_reply_to_status_id', 'in_reply_to_user_id',\n",
    "'in_reply_to_screen_name',"
   ]
  },
  {
   "cell_type": "code",
   "execution_count": null,
   "metadata": {},
   "outputs": [],
   "source": [
    "data3, status = api.statuses.user_timeline(max_id=0)"
   ]
  },
  {
   "cell_type": "code",
   "execution_count": null,
   "metadata": {},
   "outputs": [],
   "source": [
    "data3"
   ]
  },
  {
   "cell_type": "code",
   "execution_count": null,
   "metadata": {},
   "outputs": [],
   "source": [
    "for s_data in data3['statuses']:\n",
    "    status = Status(s_data)\n",
    "    print(status.get('_id'), status.get('created_at'))"
   ]
  },
  {
   "cell_type": "code",
   "execution_count": null,
   "metadata": {},
   "outputs": [],
   "source": [
    "c_data, _ = api.comments.show(id=4246117354311557)"
   ]
  },
  {
   "cell_type": "code",
   "execution_count": null,
   "metadata": {},
   "outputs": [],
   "source": [
    "for c in c_data['comments']:\n",
    "    comment = Comment(c)\n",
    "    print(comment.get('_id'), comment.get('created_at'), comment.get('reply_id'))\n",
    "    comment.write(writer=writer, write_obj=True) "
   ]
  },
  {
   "cell_type": "code",
   "execution_count": null,
   "metadata": {},
   "outputs": [],
   "source": [
    "c_data2, _ = api.comments.show(id=4241343654479917, page=2)\n",
    "for c in c_data2['comments']:\n",
    "    comment = Comment(c)\n",
    "    print(comment.get('_id'), comment.get('created_at'), comment.get('reply_id'))\n",
    "    status.write(writer=writer) "
   ]
  },
  {
   "cell_type": "code",
   "execution_count": null,
   "metadata": {},
   "outputs": [],
   "source": [
    "# data, status = api.comments.show(id=4250426327276250)\n",
    "\n",
    "for s_data in data['comments']:\n",
    "    print(s_data['id'], s_data['floor_number'], s_data['created_at'], s_data['status']['id'], s_data.get('reply_comment', {}).get('id'))\n",
    "#     s_data['text']"
   ]
  },
  {
   "cell_type": "code",
   "execution_count": null,
   "metadata": {},
   "outputs": [],
   "source": [
    "data, _ = api.users.show(uid=2625796571)"
   ]
  },
  {
   "cell_type": "code",
   "execution_count": null,
   "metadata": {},
   "outputs": [],
   "source": [
    "data"
   ]
  },
  {
   "cell_type": "code",
   "execution_count": null,
   "metadata": {},
   "outputs": [],
   "source": [
    "from weibo_data import *\n",
    "from utils import MongoWriter\n",
    "\n",
    "\n",
    "def main(cred):\n",
    "    writer = MongoWriter(**cred['mongo'])\n",
    "    oauth = wb.OAuthHandler(**cred['weibo']).authorize()\n",
    "    api = wb.API(oauth=oauth)\n",
    "    data, _ = api.statuses.user_timeline()\n",
    "    for s_data in data['statuses']:\n",
    "        status = Status(s_data)\n",
    "        print(status)\n",
    "        status.write(writer=writer)\n",
    "\n",
    "\n",
    "if __name__ == '__main__':\n",
    "    with open('./credentials.yml') as f:\n",
    "        cred = yaml.load(f)\n",
    "    main(cred=cred)"
   ]
  },
  {
   "cell_type": "code",
   "execution_count": null,
   "metadata": {},
   "outputs": [],
   "source": [
    "api = wb.API(oauth)\n",
    "data, status = api.statuses.user_timeline(count=100)"
   ]
  },
  {
   "cell_type": "code",
   "execution_count": null,
   "metadata": {},
   "outputs": [],
   "source": [
    "statuses = data.get('statuses', [])"
   ]
  },
  {
   "cell_type": "code",
   "execution_count": null,
   "metadata": {},
   "outputs": [],
   "source": [
    "for status in statuses:\n",
    "    print(status.get('created_at'), status.get('id'))"
   ]
  },
  {
   "cell_type": "code",
   "execution_count": null,
   "metadata": {},
   "outputs": [],
   "source": [
    "data, status = api.statuses.user_timeline(count=100, max_id=4248766729509158, trim_user=1)"
   ]
  },
  {
   "cell_type": "code",
   "execution_count": null,
   "metadata": {},
   "outputs": [],
   "source": [
    "statuses2 = data.get('statuses', [])"
   ]
  },
  {
   "cell_type": "code",
   "execution_count": null,
   "metadata": {},
   "outputs": [],
   "source": [
    "for status in statuses2:\n",
    "    print(status.get('created_at'), status.get('id'))"
   ]
  },
  {
   "cell_type": "code",
   "execution_count": null,
   "metadata": {},
   "outputs": [],
   "source": [
    "status = statuses2[2]\n",
    "status"
   ]
  },
  {
   "cell_type": "code",
   "execution_count": null,
   "metadata": {},
   "outputs": [],
   "source": [
    "status.keys()"
   ]
  },
  {
   "cell_type": "code",
   "execution_count": null,
   "metadata": {},
   "outputs": [],
   "source": [
    "data, _ = api.statuses.show(id='4243617021947926')"
   ]
  },
  {
   "cell_type": "code",
   "execution_count": null,
   "metadata": {},
   "outputs": [],
   "source": [
    "data.keys()"
   ]
  },
  {
   "cell_type": "code",
   "execution_count": null,
   "metadata": {},
   "outputs": [],
   "source": [
    "data['user']"
   ]
  },
  {
   "cell_type": "code",
   "execution_count": null,
   "metadata": {},
   "outputs": [],
   "source": [
    "data, _ = api.users.show(uid='1292378751')"
   ]
  },
  {
   "cell_type": "code",
   "execution_count": null,
   "metadata": {},
   "outputs": [],
   "source": [
    "data"
   ]
  },
  {
   "cell_type": "code",
   "execution_count": null,
   "metadata": {},
   "outputs": [],
   "source": [
    "help(api.users.show)"
   ]
  },
  {
   "cell_type": "code",
   "execution_count": null,
   "metadata": {},
   "outputs": [],
   "source": [
    "'screen_name', 'name', 'province', 'city', 'location', 'description', 'url', 'profile_image_url', \n",
    "'cover_image', 'cover_image_phone', 'profile_url', 'domain', 'gender', 'followers_count', 'friends_count', \n",
    "'pagefriends_count', 'statuses_count', 'video_status_count', 'favourites_count', 'created_at', 'geo_enabled',\n",
    "'verified', 'insecurity', 'ptype', 'allow_all_comment', 'avatar_large', 'avatar_hd', 'verified_reason', \n",
    "'verified_state', 'verified_level', 'verified_type_ext', 'has_service_tel', 'verified_contact_name', \n",
    "'verified_contact_email', 'verified_contact_mobile', 'follow_me', 'like', 'like_me', 'online_status', 'bi_followers_count', 'lang', 'star', 'mbtype', 'mbrank', 'block_word', 'block_app', 'credit_score', 'user_ability', 'urank', 'story_read_state', 'vclub_member'"
   ]
  },
  {
   "cell_type": "code",
   "execution_count": null,
   "metadata": {},
   "outputs": [],
   "source": [
    "'screen_name', 'name', 'province', 'city', 'location', 'description', 'url', 'profile_image_url',\n",
    "'cover_image', 'cover_image_phone', 'profile_url', 'domain', 'gender', 'followers_count', 'friends_count',\n",
    "'pagefriends_count', 'statuses_count', 'video_status_count', 'favourites_count', 'created_at', 'geo_enabled', \n",
    "'verified', 'insecurity', 'ptype', 'allow_all_comment', 'avatar_large', 'avatar_hd', 'verified_reason', \n",
    "'verified_state', 'verified_level', 'verified_type_ext', 'has_service_tel','verified_contact_name',\n",
    "'verified_contact_email', 'verified_contact_mobile', 'follow_me', 'like', \\\n",
    "            'like_me', 'online_status', 'bi_followers_count', 'lang', 'star', 'block_word', 'block_app', 'credit_score',\\\n",
    "            'user_ability', 'urank', 'story_read_state',"
   ]
  },
  {
   "cell_type": "code",
   "execution_count": 11,
   "metadata": {},
   "outputs": [],
   "source": [
    "c_1, _ = api.comments.show(id=4246117354311557)"
   ]
  },
  {
   "cell_type": "code",
   "execution_count": 12,
   "metadata": {},
   "outputs": [
    {
     "name": "stdout",
     "output_type": "stream",
     "text": [
      "Tue Jun 05 18:40:36 +0800 2018 4247621042839473\n",
      "Tue Jun 05 16:41:17 +0800 2018 4247591015228869\n",
      "Tue Jun 05 16:35:42 +0800 2018 4247589609939666\n",
      "Tue Jun 05 16:32:42 +0800 2018 4247588854679883\n",
      "Tue Jun 05 16:28:42 +0800 2018 4247587849107579\n",
      "Tue Jun 05 16:24:22 +0800 2018 4247586757668297\n",
      "Tue Jun 05 16:18:43 +0800 2018 4247585336284492\n",
      "Tue Jun 05 16:17:31 +0800 2018 4247585038101360\n",
      "Tue Jun 05 16:14:04 +0800 2018 4247584165799887\n",
      "Tue Jun 05 15:15:04 +0800 2018 4247569318554993\n",
      "Tue Jun 05 14:45:14 +0800 2018 4247561815154053\n",
      "Tue Jun 05 14:32:14 +0800 2018 4247558542610850\n",
      "Tue Jun 05 14:25:45 +0800 2018 4247556907409410\n",
      "Sun Jun 03 06:34:55 +0800 2018 4246713642073295\n",
      "Sat Jun 02 20:38:22 +0800 2018 4246563519743440\n"
     ]
    }
   ],
   "source": [
    "for c in c_1['comments']:\n",
    "    print(c['created_at'], c['id'])"
   ]
  },
  {
   "cell_type": "code",
   "execution_count": 13,
   "metadata": {},
   "outputs": [],
   "source": [
    "c_2, _ = api.comments.show(id=4246117354311557, max_id=4246563519743440)"
   ]
  },
  {
   "cell_type": "code",
   "execution_count": 14,
   "metadata": {},
   "outputs": [
    {
     "name": "stdout",
     "output_type": "stream",
     "text": [
      "Sat Jun 02 20:38:22 +0800 2018 4246563519743440\n"
     ]
    }
   ],
   "source": [
    "for c in c_2['comments']:\n",
    "    print(c['created_at'], c['id'])"
   ]
  },
  {
   "cell_type": "code",
   "execution_count": null,
   "metadata": {},
   "outputs": [],
   "source": [
    "c_3, _ = api.comments.show(id=4246117354311557, max_id=4246563519743440)"
   ]
  },
  {
   "cell_type": "code",
   "execution_count": null,
   "metadata": {},
   "outputs": [],
   "source": [
    "for c in comments:\n",
    "    print(c['created_at'], c['id'])"
   ]
  },
  {
   "cell_type": "code",
   "execution_count": null,
   "metadata": {},
   "outputs": [],
   "source": [
    "data2, _ = api.comments.show(id='4250426327276250', max_id='4250427878887380')"
   ]
  },
  {
   "cell_type": "code",
   "execution_count": null,
   "metadata": {},
   "outputs": [],
   "source": [
    "comments = data2['comments']\n",
    "\n",
    "for c in comments:\n",
    "    print(c['created_at'], c['id'])"
   ]
  },
  {
   "cell_type": "code",
   "execution_count": null,
   "metadata": {},
   "outputs": [],
   "source": []
  }
 ],
 "metadata": {
  "kernelspec": {
   "display_name": "Python 3",
   "language": "python",
   "name": "python3"
  },
  "language_info": {
   "codemirror_mode": {
    "name": "ipython",
    "version": 3
   },
   "file_extension": ".py",
   "mimetype": "text/x-python",
   "name": "python",
   "nbconvert_exporter": "python",
   "pygments_lexer": "ipython3",
   "version": "3.6.5"
  }
 },
 "nbformat": 4,
 "nbformat_minor": 1
}
