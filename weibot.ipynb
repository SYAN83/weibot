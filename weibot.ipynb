{
 "cells": [
  {
   "cell_type": "code",
   "execution_count": 1,
   "metadata": {},
   "outputs": [
    {
     "name": "stdout",
     "output_type": "stream",
     "text": [
      "Please load the link https://api.weibo.com/oauth2/authorize?response_type=code&client_id=3677147061&redirect_uri=https%3A%2F%2Fwww.greenpeace.org%2F&state=51NST3m8efJz4aeOjuxOOfQcTUbiFs to your browser and authorize weibo API access.\n",
      "Enter the full callback URL: https://www.greenpeace.org/usa/?state=51NST3m8efJz4aeOjuxOOfQcTUbiFs&code=532cc267f5aa1b2f5972c9d009267a80\n",
      "UID: 1292378751\n",
      "Access Token expires at: 2023/07/07 23:06:39\n"
     ]
    }
   ],
   "source": [
    "import sys\n",
    "sys.path.append('./venv/lib/python3.6/site-packages/')\n",
    "\n",
    "import yaml\n",
    "import weibopy as wb\n",
    "\n",
    "\n",
    "with open('./credentials.yml') as f:\n",
    "    cred = yaml.load(f)\n",
    "\n",
    "oauth = wb.OAuthHandler(**cred['weibo']).authorize()\n",
    "api = wb.API(oauth=oauth)\n",
    "data, status = api.statuses.user_timeline()"
   ]
  },
  {
   "cell_type": "code",
   "execution_count": 2,
   "metadata": {},
   "outputs": [],
   "source": [
    "from utils import MongoWriter\n",
    "writer = MongoWriter(**cred['mongo'])"
   ]
  },
  {
   "cell_type": "code",
   "execution_count": 40,
   "metadata": {},
   "outputs": [],
   "source": [
    "from utils import MongoWriter\n",
    "\n",
    "\n",
    "COLLECTION_MAPPING = {\n",
    "    'Status': 'statuses',\n",
    "    'Comment': 'comments',\n",
    "    'User': 'users'\n",
    "}\n",
    "\n",
    "\n",
    "class WeiboData(object):\n",
    "\n",
    "    _data = dict()\n",
    "    _keys = ()\n",
    "\n",
    "    def __init__(self, data: dict):\n",
    "        print('test', data['created_at'])\n",
    "        self._data['_id'] = data.get('id', 0)\n",
    "        for key in self._keys:\n",
    "            if key in self._data:\n",
    "                continue\n",
    "            print(key, data[key])\n",
    "            if key in data:\n",
    "                self._data[key] = data[key]\n",
    "        print(self._data)\n",
    "\n",
    "    def get(self, key, *args, **kwargs):\n",
    "        return self._data.get(key, *args, **kwargs)\n",
    "\n",
    "    def get_data(self):\n",
    "        return self._data\n",
    "\n",
    "    def write(self, writer: MongoWriter):\n",
    "        collection = COLLECTION_MAPPING[self.__class__.__name__]\n",
    "        result = writer.write(self._data, collection=collection)\n",
    "        if result == -1:\n",
    "            logging.warning('Duplicate id (_id:{}) found in collection.'.format(self._data['_id']))\n",
    "        else:\n",
    "            logging.info('Data (_id:{}) inserted into {}'.format(result, collection))\n",
    "\n",
    "\n",
    "class Status(WeiboData):\n",
    "\n",
    "    _keys = 'created_at', 'text'\n",
    "#     , 'textLength', 'source', 'favorited', 'truncated', 'pic_urls', 'geo', 'is_paid', \\\n",
    "#            'annotations', 'reposts_count', 'comments_count', 'attitudes_count', 'isLongText', 'multi_attitude', \\\n",
    "#            'hide_flag', 'visible', 'biz_ids', 'biz_feature', 'page_type', 'hasActionTypeCard', 'darwin_tags', \\\n",
    "#            'hot_weibo_tags', 'text_tag_tips', 'userType', 'positive_recom_flag', 'content_auth', 'gif_ids', \\\n",
    "#            'is_show_bulletin', 'comment_manage_info'\n",
    "\n",
    "    def __init__(self, data: dict, write_obj: bool=False, writer: MongoWriter=None):\n",
    "        self._data = dict()\n",
    "        if 'user' in data:\n",
    "            user = User(data['user'])\n",
    "            self._data['uid'] = user.get('_id', 0)\n",
    "            if write_obj and writer:\n",
    "                user.write(writer=writer)\n",
    "        elif 'uid' in data:\n",
    "            self._data['uid'] = data.get('uid', 0)\n",
    "        if 'retweeted_status' in data:\n",
    "            retweeted_status = Status(data=data['retweeted_status'])\n",
    "            self._data['retweeted_id'] = retweeted_status.get('_id')\n",
    "            if write_obj and writer:\n",
    "                retweeted_status.write(writer=writer)\n",
    "        super().__init__(data=data)"
   ]
  },
  {
   "cell_type": "code",
   "execution_count": 41,
   "metadata": {},
   "outputs": [
    {
     "name": "stdout",
     "output_type": "stream",
     "text": [
      "test Wed Jun 13 12:27:48 +0800 2018\n",
      "created_at Wed Jun 13 12:27:48 +0800 2018\n",
      "text 南极是地球上最后一片净土。然而绿色和平在南极海洋中却发现了微塑料和有毒有害氟化物。南极海洋以及生活在那里的野生动物需要更好的保护，设立海洋保护区是#守护南极# 的第一步。此次，@李光洁 与绿色和平携手完成了一次特别的艺术创作，戳视频，听他娓娓道来《企鹅人漂流记》幕后的故事。 ...全文： http://m.weibo.cn/1292378751/4250426327276250 ​\n",
      "{'uid': 1292378751, '_id': 4250426327276250, 'created_at': 'Wed Jun 13 12:27:48 +0800 2018', 'text': '南极是地球上最后一片净土。然而绿色和平在南极海洋中却发现了微塑料和有毒有害氟化物。南极海洋以及生活在那里的野生动物需要更好的保护，设立海洋保护区是#守护南极# 的第一步。此次，@李光洁 与绿色和平携手完成了一次特别的艺术创作，戳视频，听他娓娓道来《企鹅人漂流记》幕后的故事。 ...全文： http://m.weibo.cn/1292378751/4250426327276250 \\u200b'}\n",
      "test Fri Jun 08 22:33:09 +0800 2018\n",
      "created_at Fri Jun 08 22:33:09 +0800 2018\n",
      "text 近期，绿色和平在从南极采集的水样、雪样和海面拖网样品中发现并证实了——南极正在被微塑料和有毒有害化学品PFASs（全氟和多氟烷基化合物）污染！地球是人类的家园，不是塑料的家园，是时候和我们一起行动起来，对抗这个来势凶猛的敌人。#摆脱塑缚# #减塑生活#  http://t.cn/RB7GgKO ​\n",
      "{'uid': 1292378751, '_id': 4248766729509158, 'created_at': 'Fri Jun 08 22:33:09 +0800 2018', 'text': '近期，绿色和平在从南极采集的水样、雪样和海面拖网样品中发现并证实了——南极正在被微塑料和有毒有害化学品PFASs（全氟和多氟烷基化合物）污染！地球是人类的家园，不是塑料的家园，是时候和我们一起行动起来，对抗这个来势凶猛的敌人。#摆脱塑缚# #减塑生活#  http://t.cn/RB7GgKO \\u200b'}\n",
      "test Tue Jun 05 11:21:37 +0800 2018\n",
      "created_at Tue Jun 05 11:21:37 +0800 2018\n",
      "text 今天是世界环境日，@绿色和平 邀请@李光洁 参与，由@许闯Trunk 掌镜拍摄的《企鹅人漂流记》在@智族GQ 上首发了。在这组创意大片中，李光洁戴上企鹅人的头套，出现在北京城中各种日常的生活场景中，希望唤起人们对南极保护的关注。更多大片可以在最新一期的6月刊《智族GQ》上找到。 ​\n",
      "{'uid': 1667999147, '_id': 4247510572750740, 'created_at': 'Tue Jun 05 11:21:37 +0800 2018', 'text': '今天是世界环境日，@绿色和平 邀请@李光洁 参与，由@许闯Trunk 掌镜拍摄的《企鹅人漂流记》在@智族GQ 上首发了。在这组创意大片中，李光洁戴上企鹅人的头套，出现在北京城中各种日常的生活场景中，希望唤起人们对南极保护的关注。更多大片可以在最新一期的6月刊《智族GQ》上找到。 \\u200b'}\n",
      "test Tue Jun 05 16:03:13 +0800 2018\n",
      "created_at Tue Jun 05 16:03:13 +0800 2018\n",
      "text 今天是世界环境日，欢迎@李光洁 成为绿色和平南极大使 [太开心][太开心]，与摄影师@许闯Trunk 一起用艺术和影像的方式来#守护南极# [心][心]目前全球已有超过170万名“南极守护者”以签名的方式呼吁在南极设立海洋保护区。戳链接http://t.cn/RmPJDX9，成为南极守护者，每一个人的声音都同样重要！\n",
      "{'uid': 1292378751, 'retweeted_id': 4247510572750740, '_id': 4247581435297686, 'created_at': 'Tue Jun 05 16:03:13 +0800 2018', 'text': '今天是世界环境日，欢迎@李光洁 成为绿色和平南极大使 [太开心][太开心]，与摄影师@许闯Trunk 一起用艺术和影像的方式来#守护南极# [心][心]目前全球已有超过170万名“南极守护者”以签名的方式呼吁在南极设立海洋保护区。戳链接http://t.cn/RmPJDX9，成为南极守护者，每一个人的声音都同样重要！'}\n",
      "test Fri Jun 01 15:05:29 +0800 2018\n",
      "created_at Fri Jun 01 15:05:29 +0800 2018\n",
      "text 今天是六一儿童节，绿和君祝各位大朋友小朋友节日快乐[太开心] #守护南极# 项目又迎来了一位新的南极大使，TA化身成“企鹅人”，来了一场“北京漂流记”。戳视频，一起来猜猜TA是谁？答案将在6月5日揭晓，请期待哦！ http://t.cn/R1Ce0J4 ​\n",
      "{'uid': 1292378751, '_id': 4246117354311557, 'created_at': 'Fri Jun 01 15:05:29 +0800 2018', 'text': '今天是六一儿童节，绿和君祝各位大朋友小朋友节日快乐[太开心] #守护南极# 项目又迎来了一位新的南极大使，TA化身成“企鹅人”，来了一场“北京漂流记”。戳视频，一起来猜猜TA是谁？答案将在6月5日揭晓，请期待哦！ http://t.cn/R1Ce0J4 \\u200b'}\n",
      "test Fri May 25 17:30:03 +0800 2018\n",
      "created_at Fri May 25 17:30:03 +0800 2018\n",
      "text #地球守护者#还记得上周末绿色和平在520@微公益 新媒体展上首次亮相的酷萌企鹅，排队打印南极专属明信片的现场吗？让我们通过视频再次感受一下大家的热情[好喜欢]感谢每一位积极响应#守护南极#全球行动的守护者们，我们的呼声将会推动南极大会做出正确决定，给南极更好的保护！http://t.cn/RmPJDX9 ...全文： http://m.weibo.cn/1292378751/4243617021947926 ​\n",
      "{'uid': 1292378751, '_id': 4243617021947926, 'created_at': 'Fri May 25 17:30:03 +0800 2018', 'text': '#地球守护者#还记得上周末绿色和平在520@微公益 新媒体展上首次亮相的酷萌企鹅，排队打印南极专属明信片的现场吗？让我们通过视频再次感受一下大家的热情[好喜欢]感谢每一位积极响应#守护南极#全球行动的守护者们，我们的呼声将会推动南极大会做出正确决定，给南极更好的保护！http://t.cn/RmPJDX9 ...全文： http://m.weibo.cn/1292378751/4243617021947926 \\u200b'}\n",
      "test Sat May 19 10:56:29 +0800 2018\n",
      "created_at Sat May 19 10:56:29 +0800 2018\n",
      "text #地球守护者# 520微公益新媒体展！5月19日、20日，来北京751-D-Park炉区北广场，与酷酷的企鹅合影，打印专属明信片，绿色和平等你来玩！[太开心][太开心] http://t.cn/R2WJhBp ​\n",
      "{'uid': 1292378751, '_id': 4241343654479917, 'created_at': 'Sat May 19 10:56:29 +0800 2018', 'text': '#地球守护者# 520微公益新媒体展！5月19日、20日，来北京751-D-Park炉区北广场，与酷酷的企鹅合影，打印专属明信片，绿色和平等你来玩！[太开心][太开心] http://t.cn/R2WJhBp \\u200b'}\n"
     ]
    }
   ],
   "source": [
    "for s_data in data['statuses']:\n",
    "    status = Status(s_data)\n",
    "#     print(status.get_data())\n",
    "#     status.write(writer=writer) "
   ]
  },
  {
   "cell_type": "code",
   "execution_count": 6,
   "metadata": {},
   "outputs": [
    {
     "name": "stdout",
     "output_type": "stream",
     "text": [
      "Wed Jun 13 12:27:48 +0800 2018\n",
      "4250426327276250 Fri Aug 28 16:34:18 +0800 2009\n",
      "Fri Jun 08 22:33:09 +0800 2018\n",
      "4248766729509158 Fri Aug 28 16:34:18 +0800 2009\n",
      "Tue Jun 05 16:03:13 +0800 2018\n",
      "4247581435297686 Fri Aug 28 16:34:18 +0800 2009\n",
      "Fri Jun 01 15:05:29 +0800 2018\n",
      "4246117354311557 Fri Aug 28 16:34:18 +0800 2009\n",
      "Fri May 25 17:30:03 +0800 2018\n",
      "4243617021947926 Fri Aug 28 16:34:18 +0800 2009\n",
      "Sat May 19 10:56:29 +0800 2018\n",
      "4241343654479917 Fri Aug 28 16:34:18 +0800 2009\n"
     ]
    }
   ],
   "source": [
    "# data, status = api.statuses.user_timeline(max_id=4248766729509158)\n",
    "\n",
    "for s_data in data['statuses']:\n",
    "    print(s_data['created_at'])\n",
    "    status = Status(s_data)\n",
    "    print(status._data['_id'], status._data['created_at'])"
   ]
  },
  {
   "cell_type": "code",
   "execution_count": 54,
   "metadata": {},
   "outputs": [
    {
     "name": "stdout",
     "output_type": "stream",
     "text": [
      "4259206032691689 60 Sat Jul 07 17:55:13 +0800 2018 4250426327276250 None\n",
      "4257895908341169 0 Wed Jul 04 03:09:15 +0800 2018 4250426327276250 4250620259670924\n",
      "4257838387854399 59 Tue Jul 03 23:20:41 +0800 2018 4250426327276250 None\n",
      "4254975343009732 58 Tue Jun 26 01:43:58 +0800 2018 4250426327276250 None\n",
      "4254198877519865 57 Sat Jun 23 22:18:34 +0800 2018 4250426327276250 None\n",
      "4252939264331013 56 Wed Jun 20 10:53:18 +0800 2018 4250426327276250 None\n",
      "4251844676740213 55 Sun Jun 17 10:23:49 +0800 2018 4250426327276250 None\n",
      "4251818151961743 54 Sun Jun 17 08:38:24 +0800 2018 4250426327276250 None\n",
      "4251806529390153 53 Sun Jun 17 07:52:15 +0800 2018 4250426327276250 None\n",
      "4251596248239347 51 Sat Jun 16 17:56:38 +0800 2018 4250426327276250 None\n",
      "4251449976667290 50 Sat Jun 16 08:15:25 +0800 2018 4250426327276250 None\n",
      "4251428078415332 49 Sat Jun 16 06:48:24 +0800 2018 4250426327276250 None\n",
      "4251288319498696 48 Fri Jun 15 21:33:03 +0800 2018 4250426327276250 None\n",
      "4251261500654057 47 Fri Jun 15 19:46:29 +0800 2018 4250426327276250 None\n",
      "4251246065625227 46 Fri Jun 15 18:45:08 +0800 2018 4250426327276250 None\n",
      "4251245516359382 45 Fri Jun 15 18:42:58 +0800 2018 4250426327276250 None\n",
      "4251238990528042 44 Fri Jun 15 18:17:01 +0800 2018 4250426327276250 None\n",
      "4251238079569992 43 Fri Jun 15 18:13:24 +0800 2018 4250426327276250 None\n",
      "4251236238634228 42 Fri Jun 15 18:06:06 +0800 2018 4250426327276250 None\n",
      "4251229629154360 41 Fri Jun 15 17:39:50 +0800 2018 4250426327276250 None\n",
      "4251221440861741 40 Fri Jun 15 17:07:18 +0800 2018 4250426327276250 None\n",
      "4251220945990624 0 Fri Jun 15 17:05:19 +0800 2018 4250426327276250 4250434762343534\n",
      "4251205872099892 39 Fri Jun 15 16:05:25 +0800 2018 4250426327276250 None\n",
      "4251200469115505 0 Fri Jun 15 15:43:58 +0800 2018 4250426327276250 4250430428764282\n",
      "4251198179352409 38 Fri Jun 15 15:34:52 +0800 2018 4250426327276250 None\n",
      "4251197332174719 37 Fri Jun 15 15:31:29 +0800 2018 4250426327276250 None\n",
      "4251196845669073 36 Fri Jun 15 15:29:33 +0800 2018 4250426327276250 None\n",
      "4251190189537697 35 Fri Jun 15 15:03:06 +0800 2018 4250426327276250 None\n",
      "4251184950411598 0 Fri Jun 15 14:42:18 +0800 2018 4250426327276250 4250434762343534\n",
      "4251181474308301 34 Fri Jun 15 14:28:29 +0800 2018 4250426327276250 None\n",
      "4251179271245513 33 Fri Jun 15 14:19:43 +0800 2018 4250426327276250 None\n",
      "4250834688320259 32 Thu Jun 14 15:30:29 +0800 2018 4250426327276250 None\n",
      "4250767889571531 31 Thu Jun 14 11:05:04 +0800 2018 4250426327276250 None\n",
      "4250739544928150 30 Thu Jun 14 09:12:24 +0800 2018 4250426327276250 None\n",
      "4250739088402805 29 Thu Jun 14 09:10:36 +0800 2018 4250426327276250 None\n",
      "4250730812377126 28 Thu Jun 14 08:37:42 +0800 2018 4250426327276250 None\n",
      "4250704161699262 27 Thu Jun 14 06:51:49 +0800 2018 4250426327276250 None\n",
      "4250695202733500 26 Thu Jun 14 06:16:13 +0800 2018 4250426327276250 None\n",
      "4250683034851248 25 Thu Jun 14 05:27:52 +0800 2018 4250426327276250 None\n",
      "4250669907682218 24 Thu Jun 14 04:35:42 +0800 2018 4250426327276250 None\n",
      "4250620259670924 23 Thu Jun 14 01:18:24 +0800 2018 4250426327276250 None\n",
      "4250603335040149 22 Thu Jun 14 00:11:10 +0800 2018 4250426327276250 None\n",
      "4250598968813829 0 Wed Jun 13 23:53:49 +0800 2018 4250426327276250 4250434762343534\n",
      "4250586662332157 21 Wed Jun 13 23:04:54 +0800 2018 4250426327276250 None\n",
      "4250581880969231 20 Wed Jun 13 22:45:55 +0800 2018 4250426327276250 None\n",
      "4250581109844812 0 Wed Jun 13 22:42:51 +0800 2018 4250426327276250 4250434762343534\n",
      "4250579012242058 19 Wed Jun 13 22:34:31 +0800 2018 4250426327276250 None\n",
      "4250569054859627 18 Wed Jun 13 21:54:56 +0800 2018 4250426327276250 None\n",
      "4250552680238552 17 Wed Jun 13 20:49:53 +0800 2018 4250426327276250 None\n",
      "4250550721303029 16 Wed Jun 13 20:42:07 +0800 2018 4250426327276250 None\n"
     ]
    }
   ],
   "source": [
    "# data, status = api.comments.show(id=4250426327276250)\n",
    "\n",
    "for s_data in data['comments']:\n",
    "    print(s_data['id'], s_data['floor_number'], s_data['created_at'], s_data['status']['id'], s_data.get('reply_comment', {}).get('id'))\n",
    "#     s_data['text']"
   ]
  },
  {
   "cell_type": "code",
   "execution_count": 47,
   "metadata": {},
   "outputs": [
    {
     "data": {
      "text/plain": [
       "dict_keys(['created_at', 'id', 'rootid', 'floor_number', 'text', 'disable_reply', 'user', 'mid', 'idstr', 'status'])"
      ]
     },
     "execution_count": 47,
     "metadata": {},
     "output_type": "execute_result"
    }
   ],
   "source": [
    "s_data.keys()"
   ]
  },
  {
   "cell_type": "code",
   "execution_count": null,
   "metadata": {},
   "outputs": [],
   "source": [
    "from weibo_data import *\n",
    "from utils import MongoWriter\n",
    "\n",
    "\n",
    "def main(cred):\n",
    "    writer = MongoWriter(**cred['mongo'])\n",
    "    oauth = wb.OAuthHandler(**cred['weibo']).authorize()\n",
    "    api = wb.API(oauth=oauth)\n",
    "    data, _ = api.statuses.user_timeline()\n",
    "    for s_data in data['statuses']:\n",
    "        status = Status(s_data)\n",
    "        print(status)\n",
    "        status.write(writer=writer)\n",
    "\n",
    "\n",
    "if __name__ == '__main__':\n",
    "    with open('./credentials.yml') as f:\n",
    "        cred = yaml.load(f)\n",
    "    main(cred=cred)"
   ]
  },
  {
   "cell_type": "code",
   "execution_count": null,
   "metadata": {},
   "outputs": [],
   "source": [
    "api = wb.API(oauth)\n",
    "data, status = api.statuses.user_timeline(count=100)"
   ]
  },
  {
   "cell_type": "code",
   "execution_count": null,
   "metadata": {},
   "outputs": [],
   "source": [
    "statuses = data.get('statuses', [])"
   ]
  },
  {
   "cell_type": "code",
   "execution_count": null,
   "metadata": {},
   "outputs": [],
   "source": [
    "for status in statuses:\n",
    "    print(status.get('created_at'), status.get('id'))"
   ]
  },
  {
   "cell_type": "code",
   "execution_count": null,
   "metadata": {},
   "outputs": [],
   "source": [
    "data, status = api.statuses.user_timeline(count=100, max_id=4248766729509158, trim_user=1)"
   ]
  },
  {
   "cell_type": "code",
   "execution_count": null,
   "metadata": {},
   "outputs": [],
   "source": [
    "statuses2 = data.get('statuses', [])"
   ]
  },
  {
   "cell_type": "code",
   "execution_count": null,
   "metadata": {},
   "outputs": [],
   "source": [
    "for status in statuses2:\n",
    "    print(status.get('created_at'), status.get('id'))"
   ]
  },
  {
   "cell_type": "code",
   "execution_count": null,
   "metadata": {},
   "outputs": [],
   "source": [
    "status = statuses2[2]\n",
    "status"
   ]
  },
  {
   "cell_type": "code",
   "execution_count": null,
   "metadata": {},
   "outputs": [],
   "source": [
    "status.keys()"
   ]
  },
  {
   "cell_type": "code",
   "execution_count": null,
   "metadata": {},
   "outputs": [],
   "source": [
    "data, _ = api.statuses.show(id='4243617021947926')"
   ]
  },
  {
   "cell_type": "code",
   "execution_count": null,
   "metadata": {},
   "outputs": [],
   "source": [
    "data.keys()"
   ]
  },
  {
   "cell_type": "code",
   "execution_count": null,
   "metadata": {},
   "outputs": [],
   "source": [
    "data['user']"
   ]
  },
  {
   "cell_type": "code",
   "execution_count": null,
   "metadata": {},
   "outputs": [],
   "source": [
    "data, _ = api.users.show(uid='1292378751')"
   ]
  },
  {
   "cell_type": "code",
   "execution_count": null,
   "metadata": {},
   "outputs": [],
   "source": [
    "data"
   ]
  },
  {
   "cell_type": "code",
   "execution_count": null,
   "metadata": {},
   "outputs": [],
   "source": [
    "help(api.users.show)"
   ]
  },
  {
   "cell_type": "code",
   "execution_count": null,
   "metadata": {},
   "outputs": [],
   "source": [
    "'screen_name', 'name', 'province', 'city', 'location', 'description', 'url', 'profile_image_url', \n",
    "'cover_image', 'cover_image_phone', 'profile_url', 'domain', 'gender', 'followers_count', 'friends_count', \n",
    "'pagefriends_count', 'statuses_count', 'video_status_count', 'favourites_count', 'created_at', 'geo_enabled',\n",
    "'verified', 'insecurity', 'ptype', 'allow_all_comment', 'avatar_large', 'avatar_hd', 'verified_reason', \n",
    "'verified_state', 'verified_level', 'verified_type_ext', 'has_service_tel', 'verified_contact_name', \n",
    "'verified_contact_email', 'verified_contact_mobile', 'follow_me', 'like', 'like_me', 'online_status', 'bi_followers_count', 'lang', 'star', 'mbtype', 'mbrank', 'block_word', 'block_app', 'credit_score', 'user_ability', 'urank', 'story_read_state', 'vclub_member'"
   ]
  },
  {
   "cell_type": "code",
   "execution_count": null,
   "metadata": {},
   "outputs": [],
   "source": [
    "'screen_name', 'name', 'province', 'city', 'location', 'description', 'url', 'profile_image_url',\n",
    "'cover_image', 'cover_image_phone', 'profile_url', 'domain', 'gender', 'followers_count', 'friends_count',\n",
    "'pagefriends_count', 'statuses_count', 'video_status_count', 'favourites_count', 'created_at', 'geo_enabled', \n",
    "'verified', 'insecurity', 'ptype', 'allow_all_comment', 'avatar_large', 'avatar_hd', 'verified_reason', \n",
    "'verified_state', 'verified_level', 'verified_type_ext', 'has_service_tel','verified_contact_name',\n",
    "'verified_contact_email', 'verified_contact_mobile', 'follow_me', 'like', \\\n",
    "            'like_me', 'online_status', 'bi_followers_count', 'lang', 'star', 'block_word', 'block_app', 'credit_score',\\\n",
    "            'user_ability', 'urank', 'story_read_state',"
   ]
  },
  {
   "cell_type": "code",
   "execution_count": null,
   "metadata": {},
   "outputs": [],
   "source": [
    "data, _ = api.comments.show(id='4250426327276250')"
   ]
  },
  {
   "cell_type": "code",
   "execution_count": null,
   "metadata": {},
   "outputs": [],
   "source": [
    "comments = data['comments']\n",
    "len(comments)"
   ]
  },
  {
   "cell_type": "code",
   "execution_count": null,
   "metadata": {},
   "outputs": [],
   "source": [
    "for c in comments:\n",
    "    print(c['created_at'], c['id'])"
   ]
  },
  {
   "cell_type": "code",
   "execution_count": null,
   "metadata": {},
   "outputs": [],
   "source": [
    "data2, _ = api.comments.show(id='4250426327276250', max_id='4250427878887380')"
   ]
  },
  {
   "cell_type": "code",
   "execution_count": null,
   "metadata": {},
   "outputs": [],
   "source": [
    "comments = data2['comments']\n",
    "\n",
    "for c in comments:\n",
    "    print(c['created_at'], c['id'])"
   ]
  },
  {
   "cell_type": "code",
   "execution_count": null,
   "metadata": {},
   "outputs": [],
   "source": []
  }
 ],
 "metadata": {
  "kernelspec": {
   "display_name": "Python 3",
   "language": "python",
   "name": "python3"
  },
  "language_info": {
   "codemirror_mode": {
    "name": "ipython",
    "version": 3
   },
   "file_extension": ".py",
   "mimetype": "text/x-python",
   "name": "python",
   "nbconvert_exporter": "python",
   "pygments_lexer": "ipython3",
   "version": "3.6.5"
  }
 },
 "nbformat": 4,
 "nbformat_minor": 1
}
